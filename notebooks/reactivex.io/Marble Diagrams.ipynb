{
 "cells": [
  {
   "cell_type": "markdown",
   "metadata": {},
   "source": [
    "# Marble Diagrams with RxPY\n",
    "\n",
    "This is a fantastic feature to produce and visualize streams and to verify how various operators work on them.\n",
    "\n",
    "Have also a look at [rxmarbles](http://rxmarbles.com) for interactive visualisations.\n"
   ]
  },
  {
   "cell_type": "code",
   "execution_count": 14,
   "metadata": {
    "collapsed": true
   },
   "outputs": [],
   "source": [
    "from __future__ import print_function\n",
    "import rx, time\n",
    "O = rx.Observable\n",
    "from rx.testing import marbles\n",
    "def doc(d):\n",
    "    print ('function %s of module %s:\\n%s\\n%s' % (d.func_name, d.__module__, d.__doc__ or 'n.a.', '-' * 80))"
   ]
  },
  {
   "cell_type": "markdown",
   "metadata": {},
   "source": [
    "## Create Streams from Strings: **from_marbles**"
   ]
  },
  {
   "cell_type": "code",
   "execution_count": 20,
   "metadata": {
    "collapsed": false
   },
   "outputs": [
    {
     "name": "stdout",
     "output_type": "stream",
     "text": [
      "function from_marbles of module rx.testing.marbles:\n",
      "Convert a marble diagram string to an observable sequence, using\n",
      "    an optional scheduler to enumerate the events.\n",
      "\n",
      "    Special characters:\n",
      "    - = Timespan of 100 ms\n",
      "    x = on_error()\n",
      "    | = on_completed()\n",
      "\n",
      "    All other characters are treated as an on_next() event at the given\n",
      "    moment they are found on the string.\n",
      "\n",
      "    Examples:\n",
      "    1 - res = rx.Observable.from_string(\"1-2-3-|\")\n",
      "    2 - res = rx.Observable.from_string(\"1-(42)-3-|\")\n",
      "    3 - res = rx.Observable.from_string(\"1-2-3-x\", rx.Scheduler.timeout)\n",
      "\n",
      "    Keyword arguments:\n",
      "    string -- String with marble diagram\n",
      "    scheduler -- [Optional] Scheduler to run the the input sequence on.\n",
      "\n",
      "    Returns the observable sequence whose elements are pulled from the\n",
      "    given marble diagram string.\n",
      "    \n",
      "--------------------------------------------------------------------------------\n",
      "val: 1, dt: 0.0121178627014\n",
      "val: 2, dt: 0.127106904984\n",
      "val: 3, dt: 0.233267068863\n"
     ]
    }
   ],
   "source": [
    "doc(O.from_marbles)\n",
    "ts = time.time()\n",
    "# producing a stream\n",
    "s = O.from_marbles('1-2-3|')\n",
    "# mapping into real time:\n",
    "s2 = s.to_blocking()\n",
    "# adding times\n",
    "s3 = s2.map(lambda x: 'val: %s, dt: %s' % (x, time.time()-ts))\n",
    "# subscribing to it:\n",
    "d = s3.subscribe(print)"
   ]
  },
  {
   "cell_type": "markdown",
   "metadata": {},
   "source": [
    "## Visualize Streams as Marble Strings: **to_marbles**"
   ]
  },
  {
   "cell_type": "code",
   "execution_count": 26,
   "metadata": {
    "collapsed": false
   },
   "outputs": [
    {
     "name": "stdout",
     "output_type": "stream",
     "text": [
      "function to_marbles of module rx.testing.marbles:\n",
      "Convert an observable sequence into a marble diagram string\n",
      "\n",
      "    Keyword arguments:\n",
      "    scheduler -- [Optional] The scheduler used to run the the input\n",
      "        sequence on.\n",
      "\n",
      "    Returns marble string.\n",
      "    \n",
      "--------------------------------------------------------------------------------\n",
      "1-a-b-2c-3|\n"
     ]
    }
   ],
   "source": [
    "doc(rx.core.blockingobservable.BlockingObservable.to_marbles)\n",
    "s1 = O.from_marbles('1---2-3|')\n",
    "s2 = O.from_marbles('-a-b-c-|')\n",
    "print(s1.merge(s2).to_blocking().to_marbles())\n"
   ]
  },
  {
   "cell_type": "code",
   "execution_count": null,
   "metadata": {
    "collapsed": true
   },
   "outputs": [],
   "source": []
  }
 ],
 "metadata": {
  "kernelspec": {
   "display_name": "Python 2",
   "language": "python",
   "name": "python2"
  },
  "language_info": {
   "codemirror_mode": {
    "name": "ipython",
    "version": 2
   },
   "file_extension": ".py",
   "mimetype": "text/x-python",
   "name": "python",
   "nbconvert_exporter": "python",
   "pygments_lexer": "ipython2",
   "version": "2.7.12"
  }
 },
 "nbformat": 4,
 "nbformat_minor": 1
}
