{
 "cells": [
  {
   "cell_type": "code",
   "execution_count": 1,
   "metadata": {
    "collapsed": false
   },
   "outputs": [
    {
     "data": {
      "application/javascript": [
       "// builds the TOC\n",
       "$.getScript('https://kmahelona.github.io/ipython_notebook_goodies/ipython_notebook_toc.js')"
      ],
      "text/plain": [
       "<IPython.core.display.Javascript object>"
      ]
     },
     "metadata": {},
     "output_type": "display_data"
    }
   ],
   "source": [
    "%%javascript\n",
    "// builds the TOC\n",
    "$.getScript('https://kmahelona.github.io/ipython_notebook_goodies/ipython_notebook_toc.js')"
   ]
  },
  {
   "cell_type": "markdown",
   "metadata": {},
   "source": [
    "# A Decision Tree of Observable Operators\n",
    "\n",
    "## Part 3: Transformation\n",
    "\n",
    "> source: http://reactivex.io/documentation/operators.html#tree.  \n",
    "> (transcribed to RxPY 1.5.7, Py2.7 / 2016-12, Gunther Klessinger, [axiros](http://www.axiros.com))  \n",
    "\n",
    "**This tree can help you find the ReactiveX Observable operator you’re looking for.**  \n",
    "See [Part 1](./A Decision Tree of Observable Operators. Part I - Creation.ipynb) for Usage and Output Instructions.  \n",
    "\n",
    "We also require acquaintance with the [marble diagrams](./Marble Diagrams.ipynb) feature of RxPy.\n",
    "\n",
    "<h2 id=\"tocheading\">Table of Contents</h2>\n",
    "<div id=\"toc\"></div>\n",
    "\n"
   ]
  },
  {
   "cell_type": "code",
   "execution_count": 6,
   "metadata": {
    "collapsed": false
   },
   "outputs": [],
   "source": [
    "# Helpers.\n",
    "# Run this cell always after kernel restarts. All other cells are autonomous.\n",
    "from __future__ import print_function\n",
    "import rx\n",
    "import time\n",
    "import logging\n",
    "from random import randint\n",
    "from rx.testing import marbles\n",
    "\n",
    "logging.basicConfig(format=\"%(threadName)s:%(message)s\")\n",
    "log = logging.getLogger(\"Rx\")\n",
    "log.setLevel(logging.WARNING)\n",
    "\n",
    "# getting the current thread\n",
    "import threading\n",
    "threads = []\n",
    "def cur_thread():\n",
    "    def _cur():\n",
    "        'return a unique number for the current thread'\n",
    "        n = threading.current_thread().name\n",
    "        if 'Main' in n:\n",
    "            return '    M'\n",
    "        return '%5s' % ('T' + n.rsplit('-', 1)[-1])\n",
    "    # you could show all running threads via this:\n",
    "    #threads = ' '.join([t.name for t in threading.enumerate()])\n",
    "    #return '%s of %s' % (_cur(), threads)\n",
    "    return _cur()\n",
    "\n",
    "    \n",
    "sleep, now = time.sleep, time.time\n",
    "O = rx.Observable\n",
    "\n",
    "ts_glob = 0 # global start time\n",
    "def reset_start_time(show_doc_for=None, title=None, sleep=None):\n",
    "    'resets global start time and also prints doc strings'\n",
    "    global ts_glob\n",
    "    if sleep:\n",
    "        log('main thread sleeping %ss' % sleep)\n",
    "        time.sleep(sleep)\n",
    "    ts_glob, d = time.time(), show_doc_for\n",
    "    if title:\n",
    "        header(title)\n",
    "    if not d:\n",
    "        return\n",
    "    # print the function doc if given\n",
    "    print ('function %s of module %s:\\n%s\\n%s' % (d.func_name, d.__module__, d.__doc__ or 'n.a.', '-' * 80))\n",
    "        \n",
    "rst = reset_start_time\n",
    "\n",
    "def log(*msg):\n",
    "    s = ' '.join([str(s) for s in msg])\n",
    "    print ('%s %s %s' % (dt(ts_glob), cur_thread(), s))\n",
    "\n",
    "def header(msg):\n",
    "    print ('\\n\\n%s %s %s\\n' % ('=' * 10, msg, '=' * 10))\n",
    "    \n",
    "def rand():\n",
    "    return randint(0, 100)\n",
    "\n",
    "def to_int(s):\n",
    "    return int(s) if s.isdigit() else s\n",
    "\n",
    "def dt(ts):\n",
    "    # the time delta of now to given ts (in millis, 1 float)\n",
    "    return str('%.1f' % ((time.time() - ts) * 1000)).rjust(6)\n",
    "\n",
    "class ItemGetter:\n",
    "    'allows to throw an object onto a format string'\n",
    "    def __init__(self, obj):\n",
    "        self.obj = obj\n",
    "    def __getitem__(self, k, d=None):\n",
    "        return getattr(self.obj, k, d)\n",
    "\n",
    "class Subscriber:\n",
    "    def __init__(self, observed_stream, **kw):\n",
    "        print ('')\n",
    "        log('New subscription on stream', hash(observed_stream))\n",
    "        self.ts = time.time() # tstart, for dts at events\n",
    "        self.name = ' (%(name)s)' % kw if 'name' in kw else ''\n",
    "        \n",
    "    def _on(self, what, v=''):\n",
    "        print ('%s %s [%s] %s: %s%s' % (\n",
    "                dt(ts_glob), cur_thread(), what, dt(self.ts), v, self.name))\n",
    "\n",
    "    def on_next     (self, v): return self._on('next', v)\n",
    "    def on_error    (self, v): return self._on('err ', v)\n",
    "    def on_completed(self)   : return self._on('cmpl', 'fin')\n",
    "    \n",
    "def subs(src, **kw):\n",
    "    return src.subscribe(Subscriber(src, **kw))\n",
    "\n",
    "from rx.concurrency import new_thread_scheduler, timeout_scheduler\n",
    "from rx.testing import marbles"
   ]
  },
  {
   "cell_type": "markdown",
   "metadata": {},
   "source": [
    "# I want emit the items from an Observable after **transforming** them\n"
   ]
  },
  {
   "cell_type": "markdown",
   "metadata": {},
   "source": [
    "## ... one at a time with a function **[map / pluck / pluck_attr](http://reactivex.io/documentation/operators/map.html) **"
   ]
  },
  {
   "cell_type": "code",
   "execution_count": 25,
   "metadata": {
    "collapsed": false
   },
   "outputs": [
    {
     "name": "stdout",
     "output_type": "stream",
     "text": [
      "\n",
      "\n",
      "========== map ==========\n",
      "\n",
      "function select of module rx.linq.observable.select:\n",
      "Project each element of an observable sequence into a new form\n",
      "    by incorporating the element's index.\n",
      "\n",
      "    1 - source.map(lambda value: value * value)\n",
      "    2 - source.map(lambda value, index: value * value + index)\n",
      "\n",
      "    Keyword arguments:\n",
      "    :param Callable[[Any, Any], Any] selector: A transform function to\n",
      "        apply to each source element; the second parameter of the\n",
      "        function represents the index of the source element.\n",
      "    :rtype: Observable\n",
      "\n",
      "    Returns an observable sequence whose elements are the result of\n",
      "    invoking the transform function on each element of source.\n",
      "    \n",
      "--------------------------------------------------------------------------------\n",
      "\n",
      "   1.0     M New subscription on stream 276591285\n",
      "   1.8     M [next]    0.5: 2\n",
      "   2.4     M [next]    1.1: 4\n",
      "   2.7     M [next]    1.3: 6\n",
      "   2.9     M [cmpl]    1.6: fin\n"
     ]
    }
   ],
   "source": [
    "reset_start_time(O.map, title='map') # alias is \"select\"\n",
    "# warming up:\n",
    "d = subs(O.from_((1, 2 , 3)).map(lambda x: x * 2))"
   ]
  },
  {
   "cell_type": "code",
   "execution_count": 26,
   "metadata": {
    "collapsed": false
   },
   "outputs": [
    {
     "name": "stdout",
     "output_type": "stream",
     "text": [
      "\n",
      "\n",
      "========== pluck ==========\n",
      "\n",
      "function pluck of module rx.linq.observable.pluck:\n",
      "Retrieves the value of a specified key using dict-like access (as in\n",
      "    element[key]) from all elements in the Observable sequence.\n",
      "\n",
      "    Keyword arguments:\n",
      "    key {String} The key to pluck.\n",
      "\n",
      "    Returns a new Observable {Observable} sequence of key values.\n",
      "\n",
      "    To pluck an attribute of each element, use pluck_attr.\n",
      "\n",
      "    \n",
      "--------------------------------------------------------------------------------\n",
      "\n",
      "   0.9     M New subscription on stream 276588961\n",
      "   1.4     M [next]    0.5: 2\n",
      "   1.6     M [next]    0.7: 4\n",
      "   1.9     M [cmpl]    1.0: fin\n",
      "\n",
      "\n",
      "========== pluck_attr ==========\n",
      "\n",
      "\n",
      "   0.5     M New subscription on stream 276588985\n",
      "   0.9     M [next]    0.3: 2\n",
      "   1.3     M [next]    0.7: 4\n",
      "   1.6     M [cmpl]    1.0: fin\n"
     ]
    }
   ],
   "source": [
    "rst(O.pluck, title='pluck')\n",
    "d = subs(O.from_([{'x': 1, 'y': 2}, {'x': 3, 'y': 4}]).pluck('y'))\n",
    "\n",
    "class Coord:\n",
    "    def __init__(self, x, y): \n",
    "        self.x = x\n",
    "        self.y = y\n",
    "rst(title='pluck_attr')        \n",
    "d = subs(O.from_([Coord(1, 2), Coord(3, 4)]).pluck_attr('y'))\n"
   ]
  },
  {
   "cell_type": "markdown",
   "metadata": {},
   "source": [
    "## ...by emitting all of the items emitted by corresponding Observables **[flatmap](http://reactivex.io/documentation/operators/flatmap.html) **"
   ]
  },
  {
   "cell_type": "code",
   "execution_count": 28,
   "metadata": {
    "collapsed": false
   },
   "outputs": [
    {
     "name": "stdout",
     "output_type": "stream",
     "text": [
      "function select_many of module rx.linq.observable.selectmany:\n",
      "One of the Following:\n",
      "    Projects each element of an observable sequence to an observable\n",
      "    sequence and merges the resulting observable sequences into one\n",
      "    observable sequence.\n",
      "\n",
      "    1 - source.select_many(lambda x: Observable.range(0, x))\n",
      "\n",
      "    Or:\n",
      "    Projects each element of an observable sequence to an observable\n",
      "    sequence, invokes the result selector for the source element and each\n",
      "    of the corresponding inner sequence's elements, and merges the results\n",
      "    into one observable sequence.\n",
      "\n",
      "    1 - source.select_many(lambda x: Observable.range(0, x), lambda x, y: x + y)\n",
      "\n",
      "    Or:\n",
      "    Projects each element of the source observable sequence to the other\n",
      "    observable sequence and merges the resulting observable sequences into\n",
      "    one observable sequence.\n",
      "\n",
      "    1 - source.select_many(Observable.from_([1,2,3]))\n",
      "\n",
      "    Keyword arguments:\n",
      "    selector -- A transform function to apply to each element or an\n",
      "        observable sequence to project each element from the source\n",
      "        sequence onto.\n",
      "    result_selector -- [Optional] A transform function to apply to each\n",
      "        element of the intermediate sequence.\n",
      "\n",
      "    Returns an observable sequence whose elements are the result of\n",
      "    invoking the one-to-many transform function collectionSelector on each\n",
      "    element of the input sequence and then mapping each of those sequence\n",
      "    elements and their corresponding source element to a result element.\n",
      "    \n",
      "--------------------------------------------------------------------------------\n"
     ]
    }
   ],
   "source": [
    "rst(O.flat_map)\n"
   ]
  },
  {
   "cell_type": "code",
   "execution_count": null,
   "metadata": {
    "collapsed": true
   },
   "outputs": [],
   "source": []
  }
 ],
 "metadata": {
  "kernelspec": {
   "display_name": "Python 2",
   "language": "python",
   "name": "python2"
  },
  "language_info": {
   "codemirror_mode": {
    "name": "ipython",
    "version": 2
   },
   "file_extension": ".py",
   "mimetype": "text/x-python",
   "name": "python",
   "nbconvert_exporter": "python",
   "pygments_lexer": "ipython2",
   "version": "2.7.12"
  }
 },
 "nbformat": 4,
 "nbformat_minor": 1
}
