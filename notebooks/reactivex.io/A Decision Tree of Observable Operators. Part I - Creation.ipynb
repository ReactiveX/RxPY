{
 "cells": [
  {
   "cell_type": "code",
   "execution_count": 1,
   "metadata": {
    "collapsed": false
   },
   "outputs": [
    {
     "data": {
      "application/javascript": [
       "// builds the TOC\n",
       "$.getScript('https://kmahelona.github.io/ipython_notebook_goodies/ipython_notebook_toc.js')"
      ],
      "text/plain": [
       "<IPython.core.display.Javascript object>"
      ]
     },
     "metadata": {},
     "output_type": "display_data"
    }
   ],
   "source": [
    "%%javascript\n",
    "// builds the TOC\n",
    "$.getScript('https://kmahelona.github.io/ipython_notebook_goodies/ipython_notebook_toc.js')"
   ]
  },
  {
   "cell_type": "markdown",
   "metadata": {},
   "source": [
    "# A Decision Tree of Observable Operators\n",
    "\n",
    "> Part 1: NEW Observables.\n",
    "> source: http://reactivex.io/documentation/operators.html#tree.  \n",
    "> (transcribed to RxPY 1.5.7, Py2.7 / 2016-12, Gunther Klessinger, [axiros](http://www.axiros.com))  \n",
    "\n",
    "**This tree can help you find the ReactiveX Observable operator you’re looking for.**  \n",
    "\n",
    "<h2 id=\"tocheading\">Table of Contents</h2>\n",
    "<div id=\"toc\"></div>\n",
    "\n",
    "## Usage\n",
    "\n",
    "There are no configured behind the scenes imports or code, all code is explicitly given in the notebook.  \n",
    "All initialisiation of tools is in the first python code cell, meaning you always have to run the first cell after ipython kernel restarts.  \n",
    "**All other cells are autonmous.**\n",
    "\n",
    "In the use case functions, in contrast to the official examples we simply use **`rand`** (mapped to `randint(0, 100)`) a lot, to demonstrate when/how often observable sequences are generated and when their result is buffered for various subscribers.  \n",
    "*When in doubt then run the cell again, you might have been \"lucky\" and got the same random.*\n",
    "\n",
    "### RxJS\n",
    "The functions are linked to the [official documentation](http://reactivex.io/documentation/operators.html#tree) and created roughly analogous to the **RxJS** examples.  \n",
    "\n",
    "### Output\n",
    "When the output is not in marble format we display it like so:\n",
    "\n",
    "```\n",
    "new subscription on stream 276507289 \n",
    "\n",
    "   3.4 [next]    1.4: {'answer': 48}\n",
    "   3.5 [cmpl]    1.6: fin\n",
    "   \n",
    "```\n",
    "where the lines are syncronously `print`ed as they happen.  \n",
    "For each use case in `reset_start_time()` (alias `rst`), a global timer is set to 0 and we show the offset to it, in *milliseconds* & with one decimal value and also the offset to the start of stream subscription. In the example 3.4, 3.5 are millis since global counter reset, while 1.4, 1.6 are offsets to start of subscription.\n",
    "\n",
    "\n"
   ]
  },
  {
   "cell_type": "code",
   "execution_count": 44,
   "metadata": {
    "collapsed": false
   },
   "outputs": [],
   "source": [
    "# Helpers.\n",
    "# Run this cell always after kernel restarts. All other cells are autonomous.\n",
    "from __future__ import print_function\n",
    "import rx\n",
    "import time\n",
    "from random import randint\n",
    "from rx.testing import marbles\n",
    "sleep, now = time.sleep, time.time\n",
    "O = rx.Observable\n",
    "\n",
    "ts_glob = 0 # global start time\n",
    "def reset_start_time(show_doc_for=None, title=None):\n",
    "    'resets global start time and also prints doc strings'\n",
    "    global ts_glob\n",
    "    ts_glob, d = time.time(), show_doc_for\n",
    "    if title:\n",
    "        header(title)\n",
    "    if not d:\n",
    "        return\n",
    "    # print the function doc if given\n",
    "    print ('%s:\\n%s\\n%s' % (d.__module__, d.__doc__ or 'n.a.', '-' * 80))\n",
    "        \n",
    "rst = reset_start_time\n",
    "\n",
    "def log(*msg):\n",
    "    s = ' '.join([str(s) for s in msg])\n",
    "    print ('%s %s' % (dt(ts_glob), s))\n",
    "\n",
    "def header(msg):\n",
    "    print ('\\n\\n%s %s %s\\n' % ('=' * 10, msg, '=' * 10))\n",
    "    \n",
    "def rand():\n",
    "    return randint(0, 100)\n",
    "\n",
    "def to_int(s):\n",
    "    return int(s) if s.isdigit() else s\n",
    "\n",
    "def dt(ts):\n",
    "    # the time delta of now to given ts (in millis, 1 float)\n",
    "    return str('%.1f' % ((time.time() - ts) * 1000)).rjust(6)\n",
    "\n",
    "class ItemGetter:\n",
    "    'allows to throw an object onto a format string'\n",
    "    def __init__(self, obj):\n",
    "        self.obj = obj\n",
    "    def __getitem__(self, k, d=None):\n",
    "        return getattr(self.obj, k, d)\n",
    "\n",
    "class Subscriber:\n",
    "    def __init__(self, observed_stream, **kw):\n",
    "        print ('')\n",
    "        log('New subscription on stream', hash(observed_stream))\n",
    "        self.ts = time.time() # tstart, for dts at events\n",
    "        self.name = ' (%(name)s)' % kw if 'name' in kw else ''\n",
    "        \n",
    "    def _on(self, what, v=''):\n",
    "        print ('%s [%s] %s: %s%s' % (\n",
    "                dt(ts_glob), what, dt(self.ts), v, self.name))\n",
    "\n",
    "    def on_next     (self, v): return self._on('next', v)\n",
    "    def on_error    (self, v): return self._on('err ', v)\n",
    "    def on_completed(self)   : return self._on('cmpl', 'fin')\n",
    "    \n",
    "def subs(src, **kw):\n",
    "    return src.subscribe(Subscriber(src, **kw))"
   ]
  },
  {
   "cell_type": "markdown",
   "metadata": {},
   "source": [
    "# I want to create a **NEW** Observable..."
   ]
  },
  {
   "cell_type": "markdown",
   "metadata": {},
   "source": [
    "## ... that emits a particular item: **[just](http://reactivex.io/documentation/operators/just.html) **"
   ]
  },
  {
   "cell_type": "code",
   "execution_count": 45,
   "metadata": {
    "collapsed": false
   },
   "outputs": [
    {
     "name": "stdout",
     "output_type": "stream",
     "text": [
      "rx.linq.observable.returnvalue:\n",
      "Returns an observable sequence that contains a single element,\n",
      "    using the specified scheduler to send out observer messages.\n",
      "    There is an alias called 'just'.\n",
      "\n",
      "    example\n",
      "    res = rx.Observable.return(42)\n",
      "    res = rx.Observable.return(42, rx.Scheduler.timeout)\n",
      "\n",
      "    Keyword arguments:\n",
      "    value -- Single element in the resulting observable sequence.\n",
      "    scheduler -- [Optional] Scheduler to send the single element on. If\n",
      "        not specified, defaults to Scheduler.immediate.\n",
      "\n",
      "    Returns an observable sequence containing the single specified\n",
      "    element.\n",
      "    \n",
      "--------------------------------------------------------------------------------\n",
      "\n",
      "   0.7 New subscription on stream 276064481\n",
      "   1.3 [next]    0.5: {'answer': 0}\n",
      "   1.7 [cmpl]    1.0: fin\n",
      "\n",
      " 502.6 New subscription on stream 276064481\n",
      " 503.3 [next]    0.4: {'answer': 0}\n",
      " 503.4 [cmpl]    0.5: fin\n",
      "\n",
      " 503.9 New subscription on stream 276501117\n",
      " 504.8 [next]    0.8: 0\n",
      " 505.1 [cmpl]    1.2: fin\n"
     ]
    }
   ],
   "source": [
    "reset_start_time(O.just)\n",
    "stream = O.just({'answer': rand()})\n",
    "disposable = subs(stream)\n",
    "sleep(0.5)\n",
    "disposable = subs(stream) # same answer\n",
    "# all stream ops work, its a real stream:\n",
    "disposable = subs(stream.map(lambda x: x.get('answer', 0) * 2))"
   ]
  },
  {
   "cell_type": "markdown",
   "metadata": {},
   "source": [
    "## ..that was returned from a function *called at subscribe-time*: **[start](http://reactivex.io/documentation/operators/start.html)**"
   ]
  },
  {
   "cell_type": "code",
   "execution_count": 18,
   "metadata": {
    "collapsed": false
   },
   "outputs": [
    {
     "name": "stdout",
     "output_type": "stream",
     "text": [
      "There is a little API difference to RxJS, see Remarks:\n",
      "\n",
      "rx.linq.observable.start:\n",
      "Invokes the specified function asynchronously on the specified\n",
      "    scheduler, surfacing the result through an observable sequence.\n",
      "\n",
      "    Example:\n",
      "    res = rx.Observable.start(lambda: pprint('hello'))\n",
      "    res = rx.Observable.start(lambda: pprint('hello'), rx.Scheduler.timeout)\n",
      "\n",
      "    Keyword arguments:\n",
      "    func -- {Function} Function to run asynchronously.\n",
      "    scheduler -- {Scheduler} [Optional] Scheduler to run the function on. If\n",
      "        not specified, defaults to Scheduler.timeout.\n",
      "\n",
      "    Returns {Observable} An observable sequence exposing the function's\n",
      "    result value, or an exception.\n",
      "\n",
      "    Remarks:\n",
      "    The function is called immediately, not during the subscription of the\n",
      "    resulting sequence. Multiple subscriptions to the resulting sequence can\n",
      "    observe the function's result.\n",
      "    \n",
      "--------------------------------------------------------------------------------\n",
      "   1.3 function called\n",
      "\n",
      "   1.0 New subscription on stream 276519489   1.9 [next]    0.9: 24\n",
      "\n",
      "   2.3 [cmpl]    1.3: fin\n",
      "\n",
      "   2.0 New subscription on stream 276519489\n",
      "   2.3 [next]    0.2: 24\n",
      "   2.5 [cmpl]    0.4: fin\n",
      "\n",
      "\n",
      "========== Exceptions are handled correctly (an observable should never except): ==========\n",
      "\n",
      "\n",
      "   3.8 New subscription on stream 276519617\n",
      "   4.0 [err ]    0.2: integer division or modulo by zero\n",
      "\n",
      "   4.4 New subscription on stream 276519617\n",
      "   4.7 [err ]    0.2: integer division or modulo by zero\n"
     ]
    }
   ],
   "source": [
    "print('There is a little API difference to RxJS, see Remarks:\\n')\n",
    "rst(O.start)\n",
    "\n",
    "def f():\n",
    "    log('function called')\n",
    "    return rand()\n",
    "\n",
    "stream = O.start(func=f)\n",
    "d = subs(stream)\n",
    "d = subs(stream)\n",
    "\n",
    "header(\"Exceptions are handled correctly (an observable should never except):\")\n",
    "\n",
    "def breaking_f():    \n",
    "    return 1 / 0\n",
    "\n",
    "stream = O.start(func=breaking_f)\n",
    "d = subs(stream)\n",
    "d = subs(stream)\n",
    "\n",
    "\n",
    "\n",
    "# startasync: only in python3 and possibly here(?) http://www.tornadoweb.org/en/stable/concurrent.html#tornado.concurrent.Future\n",
    "#stream = O.start_async(f)\n",
    "#d = subs(stream)\n"
   ]
  },
  {
   "cell_type": "markdown",
   "metadata": {},
   "source": [
    "## ..that was returned from an Action, Callable, Runnable, or something of that sort, called at subscribe-time: **[from](http://reactivex.io/documentation/operators/from.html)**"
   ]
  },
  {
   "cell_type": "code",
   "execution_count": 43,
   "metadata": {
    "collapsed": false
   },
   "outputs": [
    {
     "name": "stdout",
     "output_type": "stream",
     "text": [
      "rx.linq.observable.fromiterable:\n",
      "Converts an array to an observable sequence, using an optional\n",
      "    scheduler to enumerate the array.\n",
      "\n",
      "    1 - res = rx.Observable.from_iterable([1,2,3])\n",
      "    2 - res = rx.Observable.from_iterable([1,2,3], rx.Scheduler.timeout)\n",
      "\n",
      "    Keyword arguments:\n",
      "    :param Observable cls: Observable class\n",
      "    :param Scheduler scheduler: [Optional] Scheduler to run the\n",
      "        enumeration of the input sequence on.\n",
      "\n",
      "    :returns: The observable sequence whose elements are pulled from the\n",
      "        given enumerable sequence.\n",
      "    :rtype: Observable\n",
      "    \n",
      "--------------------------------------------------------------------------------\n",
      "\n",
      "   0.8 New subscription on stream 276467533\n",
      "   1.2 [next]    0.4: 1\n",
      "   1.4 [next]    0.6: 2\n",
      "   1.7 [next]    0.9: 81\n",
      "   2.2 [cmpl]    1.4: fin\n",
      "\n",
      "   2.9 New subscription on stream 276467469\n",
      "   3.3 [next]    0.3: 22\n",
      "   3.5 [next]    0.5: 65\n",
      "   3.7 [next]    0.7: 72\n",
      "   3.8 [cmpl]    0.8: fin\n"
     ]
    }
   ],
   "source": [
    "rst(O.from_iterable)\n",
    "def f():\n",
    "    log('function called')\n",
    "    return rand()\n",
    "# aliases: O.from_, O.from_list\n",
    "# 1.: From a tuple:\n",
    "stream = O.from_iterable((1,2,rand()))\n",
    "d = subs(stream)\n",
    "# d = subs(stream) # same result\n",
    "\n",
    "# 2. from a generator\n",
    "gen = (rand() for j in range(3))\n",
    "stream = O.from_iterable(gen)\n",
    "d = subs(stream)\n",
    "\n"
   ]
  },
  {
   "cell_type": "code",
   "execution_count": 44,
   "metadata": {
    "collapsed": false
   },
   "outputs": [
    {
     "name": "stdout",
     "output_type": "stream",
     "text": [
      "rx.linq.observable.fromcallback:\n",
      "Converts a callback function to an observable sequence.\n",
      "\n",
      "    Keyword arguments:\n",
      "    func -- {Function} Function with a callback as the last parameter to\n",
      "        convert to an Observable sequence.\n",
      "    selector -- {Function} [Optional] A selector which takes the arguments\n",
      "        from the callback to produce a single item to yield on next.\n",
      "\n",
      "    Returns {Function} A function, when executed with the required\n",
      "    parameters minus the callback, produces an Observable sequence with a\n",
      "    single value of the arguments to the callback as a list.\n",
      "    \n",
      "--------------------------------------------------------------------------------\n",
      "\n",
      "   0.7 New subscription on stream 276467521\n",
      "   1.8 called f\n",
      " 205.0 [next]  204.2: ['fu', 'bar']\n",
      " 205.4 [cmpl]  204.5: fin\n"
     ]
    }
   ],
   "source": [
    "rst(O.from_callback)\n",
    "# in my words: In the on_next of the subscriber you'll have the original arguments,\n",
    "# potentially objects, e.g. user original http requests.\n",
    "# i.e. you could merge those with the result stream of a backend call to\n",
    "# a webservice or db and send the request.response back to the user then.\n",
    "\n",
    "def g(f, a, b):\n",
    "    f(a, b)\n",
    "    log('called f')\n",
    "stream = O.from_callback(lambda a, b, f: g(f, a, b))('fu', 'bar')\n",
    "d = subs(stream.delay(200))\n",
    "# d = subs(stream.delay(200)) # does NOT work\n"
   ]
  },
  {
   "cell_type": "markdown",
   "metadata": {},
   "source": [
    "## ...after a specified delay: **[timer](http://reactivex.io/documentation/operators/timer.html)**"
   ]
  },
  {
   "cell_type": "code",
   "execution_count": 45,
   "metadata": {
    "collapsed": false
   },
   "outputs": [
    {
     "name": "stdout",
     "output_type": "stream",
     "text": [
      "\n",
      "   0.7 New subscription on stream 276459573\n",
      "\n",
      "   2.2 New subscription on stream 276459573\n",
      " 205.6 [next]  204.9: val:0 dt:0:00:00.204346 (observer1)\n",
      " 206.8 [next]  204.6: val:0 dt:0:00:00.204324 (observer2)\n",
      " 305.8 [next]  305.0: val:1 dt:0:00:00.100137 (observer1)\n",
      " 308.5 [next]  306.3: val:1 dt:0:00:00.101737 (observer2)\n",
      " 406.0 [next]  405.3: val:2 dt:0:00:00.100271 (observer1)\n",
      " 406.4 [cmpl]  405.6: fin (observer1)\n",
      " 407.1 [next]  404.9: val:2 dt:0:00:00.098561 (observer2)\n",
      " 408.5 [cmpl]  406.3: fin (observer2)\n"
     ]
    }
   ],
   "source": [
    "rst()\n",
    "# start a stream of 0, 1, 2, .. after 200 ms, with a delay of 100 ms:\n",
    "stream = O.timer(200, 100).time_interval()\\\n",
    "    .map(lambda x: 'val:%s dt:%s' % (x.value, x.interval))\\\n",
    "    .take(3)\n",
    "d = subs(stream, name='observer1')\n",
    "# intermix directly with another one\n",
    "d = subs(stream, name='observer2')"
   ]
  },
  {
   "cell_type": "markdown",
   "metadata": {},
   "source": [
    "## ...that emits a sequence of items repeatedly: **[repeat](http://reactivex.io/documentation/operators/repeat.html) **"
   ]
  },
  {
   "cell_type": "code",
   "execution_count": 27,
   "metadata": {
    "collapsed": false
   },
   "outputs": [
    {
     "name": "stdout",
     "output_type": "stream",
     "text": [
      "rx.linq.observable.repeat:\n",
      "Generates an observable sequence that repeats the given element the\n",
      "    specified number of times, using the specified scheduler to send out\n",
      "    observer messages.\n",
      "\n",
      "    1 - res = rx.Observable.repeat(42)\n",
      "    2 - res = rx.Observable.repeat(42, 4)\n",
      "    3 - res = rx.Observable.repeat(42, 4, Rx.Scheduler.timeout)\n",
      "    4 - res = rx.Observable.repeat(42, None, Rx.Scheduler.timeout)\n",
      "\n",
      "    Keyword arguments:\n",
      "    value -- Element to repeat.\n",
      "    repeat_count -- [Optional] Number of times to repeat the element. If not\n",
      "        specified, repeats indefinitely.\n",
      "    scheduler -- Scheduler to run the producer loop on. If not specified,\n",
      "        defaults to ImmediateScheduler.\n",
      "\n",
      "    Returns an observable sequence that repeats the given element the\n",
      "    specified number of times.\n",
      "--------------------------------------------------------------------------------\n",
      "\n",
      "   0.6 New subscription on stream 276524669\n",
      "   1.3 [next]    0.4: {'rand': 1482182963.392313}\n",
      "   1.7 [next]    0.8: {'rand': 1482182963.392313}\n",
      "   2.3 [next]    1.3: {'rand': 1482182963.392313}\n",
      "   2.4 [cmpl]    1.5: fin\n",
      "\n",
      "\n",
      "========== do while: ==========\n",
      "\n",
      "\n",
      "   3.3 New subscription on stream 276524789\n",
      "   3.9 [next]    0.5: 42\n",
      "   4.3 [next]    0.9: 42\n",
      "   4.5 [cmpl]    1.1: fin\n"
     ]
    }
   ],
   "source": [
    "rst(O.repeat)\n",
    "# repeat is over *values*, not function calls. Use generate or create for function calls!\n",
    "subs(O.repeat({'rand': time.time()}, 3))\n",
    "\n",
    "header('do while:')\n",
    "l = []\n",
    "def condition(x):\n",
    "    l.append(1)\n",
    "    return True if len(l) < 2 else False\n",
    "stream = O.just(42).do_while(condition)\n",
    "d = subs(stream)\n",
    "\n"
   ]
  },
  {
   "cell_type": "markdown",
   "metadata": {},
   "source": [
    "## ...from scratch, with custom logic and cleanup (calling a function again and again): **[create](http://reactivex.io/documentation/operators/create.html) **"
   ]
  },
  {
   "cell_type": "code",
   "execution_count": 51,
   "metadata": {
    "collapsed": false
   },
   "outputs": [
    {
     "name": "stdout",
     "output_type": "stream",
     "text": [
      "rx.linq.observable.create:\n",
      "n.a.\n",
      "--------------------------------------------------------------------------------\n",
      "\n",
      "   0.8 New subscription on stream 276492845\n",
      "   1.7 cleaning up...\n",
      "\n",
      "   2.0 New subscription on stream 276492845\n",
      "   3.7 cleaning up...\n",
      " 207.2 [next]  206.3: 52\n",
      " 208.5 [next]  206.5: 19 207.5 [next]  206.7: 34\n",
      "\n",
      " 209.0 [next]  207.0: 17 208.1 [cmpl]  207.2: fin\n",
      "\n",
      " 209.1 [cmpl]  207.1: fin\n",
      "\n",
      "\n",
      "========== Exceptions are handled nicely ==========\n",
      "\n",
      "\n",
      "   1.3 New subscription on stream 276412933\n",
      "   1.6 [next]    0.2: 0 0.5 (observer hash: 276472189)\n",
      "   2.0 [next]    0.6: 1 1.0 (observer hash: 276472189)\n",
      "   2.3 [err ]    1.0: float division by zero\n",
      "\n",
      "   3.1 New subscription on stream 276412933\n",
      "   3.6 [next]    0.2: 0 -1.0 (observer hash: 275126105)\n",
      "   3.9 [next]    0.5: 1 -0.5 (observer hash: 275126105)\n",
      "   4.1 [next]    0.7: 2 -0.333333333333 (observer hash: 275126105)\n",
      "   4.2 [cmpl]    0.8: fin\n",
      "\n",
      "\n",
      "========== Feature or Bug? ==========\n",
      "\n",
      "(where are the first two values?)\n",
      "\n",
      "   1.1 New subscription on stream 276490413\n",
      "   2.4 [err ]    1.1: float division by zero\n",
      "\n",
      "   3.1 New subscription on stream 276490413\n",
      " 107.8 [next]  104.6: 0 -1.0 (observer hash: 276490281)\n",
      " 108.3 [next]  105.1: 1 -0.5 (observer hash: 276490281)\n",
      " 108.5 [next]  105.3: 2 -0.333333333333 (observer hash: 276490281)\n",
      " 108.7 [cmpl]  105.5: fin\n"
     ]
    }
   ],
   "source": [
    "rx = O.create\n",
    "rst(rx)\n",
    "\n",
    "def f(obs):\n",
    "    # this function is called for every observer\n",
    "    obs.on_next(rand())\n",
    "    obs.on_next(rand())\n",
    "    obs.on_completed()\n",
    "    def cleanup():\n",
    "        log('cleaning up...')\n",
    "    return cleanup\n",
    "stream = O.create(f).delay(200) # the delay causes the cleanup called before the subs gets the vals\n",
    "d = subs(stream)\n",
    "d = subs(stream)\n",
    "\n",
    "\n",
    "\n",
    "\n",
    "sleep(0.5)\n",
    "rst(title='Exceptions are handled nicely')\n",
    "l = []\n",
    "def excepting_f(obs):\n",
    "    for i in range(3):\n",
    "        l.append(1)\n",
    "        obs.on_next('%s %s (observer hash: %s)' % (i, 1. / (3 - len(l)), hash(obs) ))\n",
    "    obs.on_completed()\n",
    "\n",
    "stream = O.create(excepting_f)\n",
    "d = subs(stream)\n",
    "d = subs(stream)\n",
    "\n",
    "\n",
    "\n",
    "\n",
    "rst(title='Feature or Bug?')\n",
    "print('(where are the first two values?)')\n",
    "l = []\n",
    "def excepting_f(obs):\n",
    "    for i in range(3):\n",
    "        l.append(1)\n",
    "        obs.on_next('%s %s (observer hash: %s)' % (i, 1. / (3 - len(l)), hash(obs) ))\n",
    "    obs.on_completed()\n",
    "\n",
    "stream = O.create(excepting_f).delay(100)\n",
    "d = subs(stream)\n",
    "d = subs(stream)\n",
    "# I think its an (amazing) feature, preventing to process functions results of later(!) failing functions\n"
   ]
  },
  {
   "cell_type": "code",
   "execution_count": 9,
   "metadata": {
    "collapsed": false
   },
   "outputs": [
    {
     "name": "stdout",
     "output_type": "stream",
     "text": [
      "rx.linq.observable.generate:\n",
      "Generates an observable sequence by running a state-driven loop\n",
      "    producing the sequence's elements, using the specified scheduler to\n",
      "    send out observer messages.\n",
      "\n",
      "    1 - res = rx.Observable.generate(0,\n",
      "        lambda x: x < 10,\n",
      "        lambda x: x + 1,\n",
      "        lambda x: x)\n",
      "    2 - res = rx.Observable.generate(0,\n",
      "        lambda x: x < 10,\n",
      "        lambda x: x + 1,\n",
      "        lambda x: x,\n",
      "        Rx.Scheduler.timeout)\n",
      "\n",
      "    Keyword arguments:\n",
      "    initial_state -- Initial state.\n",
      "    condition -- Condition to terminate generation (upon returning False).\n",
      "    iterate -- Iteration step function.\n",
      "    result_selector -- Selector function for results produced in the\n",
      "        sequence.\n",
      "    scheduler -- [Optional] Scheduler on which to run the generator loop.\n",
      "        If not provided, defaults to CurrentThreadScheduler.\n",
      "\n",
      "    Returns the generated sequence.\n",
      "    \n",
      "--------------------------------------------------------------------------------\n",
      "\n",
      "   0.8 New subscription on stream 276414873\n",
      "   1.4 [next]    0.5: 0\n",
      "   1.7 [next]    0.8: 2.2\n",
      "   2.2 [next]    1.3: 4.4\n",
      "   2.7 [next]    1.8: 6.6\n",
      "   3.2 [cmpl]    2.3: fin\n"
     ]
    }
   ],
   "source": [
    "rx = O.generate\n",
    "rst(rx)\n",
    "\"\"\"The basic form of generate takes four parameters:\n",
    "\n",
    "the first item to emit\n",
    "a function to test an item to determine whether to emit it (true) or terminate the Observable (false)\n",
    "a function to generate the next item to test and emit based on the value of the previous item\n",
    "a function to transform items before emitting them\n",
    "\"\"\"\n",
    "def generator_based_on_previous(x): return x + 1.1\n",
    "def doubler(x): return 2 * x\n",
    "d = subs(rx(0, lambda x: x < 4, generator_based_on_previous, doubler))"
   ]
  },
  {
   "cell_type": "code",
   "execution_count": 49,
   "metadata": {
    "collapsed": false
   },
   "outputs": [
    {
     "name": "stdout",
     "output_type": "stream",
     "text": [
      "rx.linq.observable.generatewithrelativetime:\n",
      "Generates an observable sequence by iterating a state from an\n",
      "    initial state until the condition fails.\n",
      "\n",
      "    res = source.generate_with_relative_time(0,\n",
      "        lambda x: True,\n",
      "        lambda x: x + 1,\n",
      "        lambda x: x,\n",
      "        lambda x: 500)\n",
      "\n",
      "    initial_state -- Initial state.\n",
      "    condition -- Condition to terminate generation (upon returning false).\n",
      "    iterate -- Iteration step function.\n",
      "    result_selector -- Selector function for results produced in the\n",
      "        sequence.\n",
      "    time_selector -- Time selector function to control the speed of values\n",
      "        being produced each iteration, returning integer values denoting\n",
      "        milliseconds.\n",
      "    scheduler -- [Optional] Scheduler on which to run the generator loop.\n",
      "        If not specified, the timeout scheduler is used.\n",
      "\n",
      "    Returns the generated sequence.\n",
      "    \n",
      "--------------------------------------------------------------------------------\n",
      "\n",
      "   0.9 New subscription on stream 276070625\n",
      " 102.5 [next]  101.4: 1\n",
      " 204.0 [next]  202.9: 2\n",
      " 305.8 [next]  304.7: 3\n",
      " 306.9 [cmpl]  305.8: fin\n"
     ]
    }
   ],
   "source": [
    "rx = O.generate_with_relative_time\n",
    "rst(rx)\n",
    "stream = rx(1, lambda x: x < 4, lambda x: x + 1, lambda x: x, lambda t: 100)\n",
    "d = subs(stream)\n"
   ]
  },
  {
   "cell_type": "markdown",
   "metadata": {},
   "source": [
    "## ...for each observer that subscribes OR according to a condition at subscription time: **[defer / if_then](http://reactivex.io/documentation/operators/defer.html) **"
   ]
  },
  {
   "cell_type": "code",
   "execution_count": 53,
   "metadata": {
    "collapsed": false
   },
   "outputs": [
    {
     "name": "stdout",
     "output_type": "stream",
     "text": [
      "rx.linq.observable.defer:\n",
      "Returns an observable sequence that invokes the specified factory\n",
      "    function whenever a new observer subscribes.\n",
      "\n",
      "    Example:\n",
      "    1 - res = rx.Observable.defer(lambda: rx.Observable.from_([1,2,3]))\n",
      "\n",
      "    Keyword arguments:\n",
      "    :param types.FunctionType observable_factory: Observable factory function\n",
      "        to invoke for each observer that subscribes to the resulting sequence.\n",
      "\n",
      "    :returns: An observable sequence whose observers trigger an invocation\n",
      "    of the given observable factory function.\n",
      "    :rtype: Observable\n",
      "    \n",
      "--------------------------------------------------------------------------------\n",
      "\n",
      "   0.7 New subscription on stream 276459581\n",
      "   1.1 [next]    0.3: 67\n",
      "   1.3 [cmpl]    0.5: fin\n",
      "\n",
      "   1.9 New subscription on stream 276459581\n",
      "   2.4 [next]    0.4: 91\n",
      "   2.5 [cmpl]    0.5: fin\n"
     ]
    }
   ],
   "source": [
    "rst(O.defer)\n",
    "# plural! (unique per subscription)\n",
    "streams = O.defer(lambda: O.just(rand()))\n",
    "d = subs(streams)\n",
    "d = subs(streams) # gets other values - created by subscription!"
   ]
  },
  {
   "cell_type": "code",
   "execution_count": 55,
   "metadata": {
    "collapsed": false
   },
   "outputs": [
    {
     "name": "stdout",
     "output_type": "stream",
     "text": [
      "rx.linq.observable.ifthen:\n",
      "Determines whether an observable collection contains values.\n",
      "\n",
      "    Example:\n",
      "    1 - res = rx.Observable.if(condition, obs1)\n",
      "    2 - res = rx.Observable.if(condition, obs1, obs2)\n",
      "    3 - res = rx.Observable.if(condition, obs1, scheduler=scheduler)\n",
      "\n",
      "    Keyword parameters:\n",
      "    condition -- {Function} The condition which determines if the\n",
      "        then_source or else_source will be run.\n",
      "    then_source -- {Observable} The observable sequence or Promise that\n",
      "        will be run if the condition function returns true.\n",
      "    else_source -- {Observable} [Optional] The observable sequence or\n",
      "        Promise that will be run if the condition function returns False.\n",
      "        If this is not provided, it defaults to rx.Observable.empty\n",
      "    scheduler -- [Optional] Scheduler to use.\n",
      "\n",
      "    Returns an observable {Observable} sequence which is either the\n",
      "    then_source or else_source.\n",
      "    \n",
      "--------------------------------------------------------------------------------\n",
      "\n",
      "   0.9 New subscription on stream 276480261\n",
      "   1.2 [next]    0.3: 43\n",
      "   1.3 [cmpl]    0.3: fin\n",
      "   2.2 condition will now evaluate falsy:\n",
      "\n",
      "   2.7 New subscription on stream 276462305\n",
      "   3.1 [next]    0.3: 57\n",
      "   3.3 [cmpl]    0.5: fin\n",
      "\n",
      "   3.7 New subscription on stream 276462305\n",
      "   3.9 [next]    0.2: 57\n",
      "   4.0 [cmpl]    0.3: fin\n"
     ]
    }
   ],
   "source": [
    "# evaluating a condition at subscription time in order to decide which of two streams to take.\n",
    "rst(O.if_then)\n",
    "cond = True\n",
    "def should_run():\n",
    "    return cond\n",
    "streams = O.if_then(should_run, O.return_value(43), O.return_value(56))\n",
    "d = subs(streams)\n",
    "\n",
    "log('condition will now evaluate falsy:')\n",
    "cond = False\n",
    "streams = O.if_then(should_run, O.return_value(43), O.return_value(rand()))\n",
    "d = subs(streams)\n",
    "d = subs(streams)"
   ]
  },
  {
   "cell_type": "markdown",
   "metadata": {},
   "source": [
    "## ...that emits a sequence of integers: **[range](http://reactivex.io/documentation/operators/range.html) **"
   ]
  },
  {
   "cell_type": "code",
   "execution_count": 60,
   "metadata": {
    "collapsed": false
   },
   "outputs": [
    {
     "name": "stdout",
     "output_type": "stream",
     "text": [
      "rx.linq.observable.range:\n",
      "Generates an observable sequence of integral numbers within a\n",
      "    specified range, using the specified scheduler to send out observer\n",
      "    messages.\n",
      "\n",
      "    1 - res = Rx.Observable.range(0, 10)\n",
      "    2 - res = Rx.Observable.range(0, 10, rx.Scheduler.timeout)\n",
      "\n",
      "    Keyword arguments:\n",
      "    start -- The value of the first integer in the sequence.\n",
      "    count -- The number of sequential integers to generate.\n",
      "    scheduler -- [Optional] Scheduler to run the generator loop on. If not\n",
      "        specified, defaults to Scheduler.current_thread.\n",
      "\n",
      "    Returns an observable sequence that contains a range of sequential\n",
      "    integral numbers.\n",
      "    \n",
      "--------------------------------------------------------------------------------\n",
      "\n",
      "   0.4 New subscription on stream 276462129\n",
      "   1.0 [next]    0.5: 0\n",
      "   1.6 [next]    1.1: 1\n",
      "   2.1 [next]    1.6: 2\n",
      "   2.5 [cmpl]    2.0: fin\n"
     ]
    }
   ],
   "source": [
    "rst(O.range)\n",
    "d = subs(O.range(0, 3))"
   ]
  },
  {
   "cell_type": "markdown",
   "metadata": {},
   "source": [
    "### ...at particular intervals of time: **[interval](http://reactivex.io/documentation/operators/interval.html) **"
   ]
  },
  {
   "cell_type": "code",
   "execution_count": 78,
   "metadata": {
    "collapsed": false
   },
   "outputs": [
    {
     "name": "stdout",
     "output_type": "stream",
     "text": [
      "rx.linq.observable.interval:\n",
      "Returns an observable sequence that produces a value after each\n",
      "    period.\n",
      "\n",
      "    Example:\n",
      "    1 - res = rx.Observable.interval(1000)\n",
      "    2 - res = rx.Observable.interval(1000, rx.Scheduler.timeout)\n",
      "\n",
      "    Keyword arguments:\n",
      "    period -- Period for producing the values in the resulting sequence\n",
      "        (specified as an integer denoting milliseconds).\n",
      "    scheduler -- [Optional] Scheduler to run the timer on. If not specified,\n",
      "        rx.Scheduler.timeout is used.\n",
      "\n",
      "    Returns an observable sequence that produces a value after each period.\n",
      "    \n",
      "--------------------------------------------------------------------------------\n",
      "\n",
      "   1.1 New subscription on stream 276538797\n",
      " 103.0 [next]  101.7: 0:00:00.100954 0\n",
      " 207.2 [next]  205.9: 0:00:00.104143 1\n",
      " 310.3 [next]  309.0: 0:00:00.103126 2\n",
      " 311.2 [cmpl]  309.9: fin\n"
     ]
    }
   ],
   "source": [
    "rst(O.interval)\n",
    "d = subs(O.interval(100).time_interval().map(lambda x, v: '%(interval)s %(value)s' % ItemGetter(x)).take(3))"
   ]
  },
  {
   "cell_type": "markdown",
   "metadata": {},
   "source": [
    "### ...after a specified delay (see timer)"
   ]
  },
  {
   "cell_type": "markdown",
   "metadata": {},
   "source": [
    "## ...that completes without emitting items: **[empty](http://reactivex.io/documentation/operators/empty-never-throw.html) **"
   ]
  },
  {
   "cell_type": "code",
   "execution_count": 8,
   "metadata": {
    "collapsed": false
   },
   "outputs": [
    {
     "name": "stdout",
     "output_type": "stream",
     "text": [
      "rx.linq.observable.empty:\n",
      "Returns an empty observable sequence, using the specified scheduler\n",
      "    to send out the single OnCompleted message.\n",
      "\n",
      "    1 - res = rx.Observable.empty()\n",
      "    2 - res = rx.Observable.empty(rx.Scheduler.timeout)\n",
      "\n",
      "    scheduler -- Scheduler to send the termination call on.\n",
      "\n",
      "    Returns an observable sequence with no elements.\n",
      "    \n",
      "--------------------------------------------------------------------------------\n",
      "\n",
      "   0.6 New subscription on stream 276351057\n",
      "   0.9 [cmpl]    0.2: fin\n"
     ]
    }
   ],
   "source": [
    "rst(O.empty)\n",
    "d = subs(O.empty())"
   ]
  },
  {
   "cell_type": "markdown",
   "metadata": {},
   "source": [
    "## ...that does nothing at all: **[never](http://reactivex.io/documentation/operators/empty-never-throw.html) **"
   ]
  },
  {
   "cell_type": "code",
   "execution_count": 7,
   "metadata": {
    "collapsed": false
   },
   "outputs": [
    {
     "name": "stdout",
     "output_type": "stream",
     "text": [
      "rx.linq.observable.never:\n",
      "Returns a non-terminating observable sequence, which can be used to\n",
      "    denote an infinite duration (e.g. when using reactive joins).\n",
      "\n",
      "    Returns an observable sequence whose observers will never get called.\n",
      "    \n",
      "--------------------------------------------------------------------------------\n",
      "\n",
      "   1.0 New subscription on stream 276351133\n"
     ]
    }
   ],
   "source": [
    "rst(O.never)\n",
    "d = subs(O.never())"
   ]
  },
  {
   "cell_type": "markdown",
   "metadata": {},
   "source": [
    "## ...that excepts: **[throw](http://reactivex.io/documentation/operators/empty-never-throw.html) **"
   ]
  },
  {
   "cell_type": "code",
   "execution_count": 6,
   "metadata": {
    "collapsed": false
   },
   "outputs": [
    {
     "name": "stdout",
     "output_type": "stream",
     "text": [
      "rx.linq.observable.throw:\n",
      "Returns an observable sequence that terminates with an exception,\n",
      "    using the specified scheduler to send out the single OnError message.\n",
      "\n",
      "    1 - res = rx.Observable.throw_exception(Exception('Error'))\n",
      "    2 - res = rx.Observable.throw_exception(Exception('Error'),\n",
      "                                            rx.Scheduler.timeout)\n",
      "\n",
      "    Keyword arguments:\n",
      "    exception -- An object used for the sequence's termination.\n",
      "    scheduler -- Scheduler to send the exceptional termination call on. If\n",
      "        not specified, defaults to ImmediateScheduler.\n",
      "\n",
      "    Returns the observable sequence that terminates exceptionally with the\n",
      "    specified exception object.\n",
      "    \n",
      "--------------------------------------------------------------------------------\n",
      "\n",
      "   0.8 New subscription on stream 276351081\n",
      "   1.4 [err ]    0.3: <type 'exceptions.ZeroDivisionError'>\n"
     ]
    }
   ],
   "source": [
    "rst(O.throw)\n",
    "d = subs(O.throw(ZeroDivisionError))"
   ]
  },
  {
   "cell_type": "code",
   "execution_count": null,
   "metadata": {
    "collapsed": true
   },
   "outputs": [],
   "source": []
  }
 ],
 "metadata": {
  "kernelspec": {
   "display_name": "Python 2",
   "language": "python",
   "name": "python2"
  },
  "language_info": {
   "codemirror_mode": {
    "name": "ipython",
    "version": 2
   },
   "file_extension": ".py",
   "mimetype": "text/x-python",
   "name": "python",
   "nbconvert_exporter": "python",
   "pygments_lexer": "ipython2",
   "version": "2.7.12"
  }
 },
 "nbformat": 4,
 "nbformat_minor": 1
}
