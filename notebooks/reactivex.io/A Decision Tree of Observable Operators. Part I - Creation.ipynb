{
 "cells": [
  {
   "cell_type": "code",
   "execution_count": 3,
   "metadata": {},
   "outputs": [],
   "source": [
    "%run startup.py"
   ]
  },
  {
   "cell_type": "code",
   "execution_count": 4,
   "metadata": {},
   "outputs": [
    {
     "data": {
      "application/javascript": [
       "$.getScript('./assets/js/ipython_notebook_toc.js')\n"
      ],
      "text/plain": [
       "<IPython.core.display.Javascript object>"
      ]
     },
     "metadata": {},
     "output_type": "display_data"
    }
   ],
   "source": [
    "%%javascript\n",
    "$.getScript('./assets/js/ipython_notebook_toc.js')"
   ]
  },
  {
   "cell_type": "markdown",
   "metadata": {},
   "source": [
    "# A Decision Tree of Observable Operators\n",
    "\n",
    "## Part 1: NEW Observables.\n",
    "\n",
    "> source: http://reactivex.io/documentation/operators.html#tree.  \n",
    "> (transcribed to RxPY 1.5.7, Py2.7 / 2016-12, Gunther Klessinger, [axiros](http://www.axiros.com))  \n",
    "\n",
    "**This tree can help you find the ReactiveX Observable operator you’re looking for.**  \n",
    "\n",
    "<h2 id=\"tocheading\">Table of Contents</h2>\n",
    "<div id=\"toc\"></div>\n",
    "\n",
    "## Usage\n",
    "\n",
    "There are no configured behind the scenes imports or code except [`startup.py`](./edit/startup.py), which defines output helper functions, mainly:\n",
    "\n",
    "- `rst, reset_start_time`: resets a global timer, in order to have use cases starting from 0.\n",
    "- `subs(observable)`: subscribes to an observable, printing notifications with time, thread, value\n",
    "\n",
    "\n",
    "All other code is explicitly given in the notebook.  \n",
    "Since all initialisiation of tools is in the first cell, you always have to run the first cell after ipython kernel restarts.  \n",
    "**All other cells are autonmous.**\n",
    "\n",
    "In the use case functions, in contrast to the official examples we simply use **`rand`** quite often (mapped to `randint(0, 100)`), to demonstrate when/how often observable sequences are generated and when their result is buffered for various subscribers.  \n",
    "*When in doubt then run the cell again, you might have been \"lucky\" and got the same random.*\n",
    "\n",
    "### RxJS\n",
    "The (bold printed) operator functions are linked to the [official documentation](http://reactivex.io/documentation/operators.html#tree) and created roughly analogous to the **RxJS** examples. The rest of the TOC lines links to anchors within the notebooks. \n",
    "\n",
    "### Output\n",
    "When the output is not in marble format we display it like so:\n",
    "\n",
    "```\n",
    "new subscription on stream 276507289 \n",
    "\n",
    "   3.4  M [next]    1.4: {'answer': 42}\n",
    "   3.5 T1 [cmpl]    1.6: fin\n",
    "   \n",
    "```\n",
    "where the lines are syncronously `print`ed as they happen.  \"M\" and \"T1\" would be thread names (\"M\" is main thread).  \n",
    "For each use case in `reset_start_time()` (alias `rst`), a global timer is set to 0 and we show the offset to it, in *milliseconds* & with one decimal value and also the offset to the start of stream subscription. In the example 3.4, 3.5 are millis since global counter reset, while 1.4, 1.6 are offsets to start of subscription.\n"
   ]
  },
  {
   "cell_type": "markdown",
   "metadata": {},
   "source": [
    "# I want to create a **NEW** Observable..."
   ]
  },
  {
   "cell_type": "markdown",
   "metadata": {},
   "source": [
    "## ... that emits a particular item: **[just](http://reactivex.io/documentation/operators/just.html) **"
   ]
  },
  {
   "cell_type": "code",
   "execution_count": 9,
   "metadata": {},
   "outputs": [
    {
     "name": "stdout",
     "output_type": "stream",
     "text": [
      "\n",
      "\n",
      "========== return_value ==========\n",
      "\n",
      "module reactivex\n",
      "def return_value(\n",
      "    value: _T, scheduler: Optional[abc.SchedulerBase] = None\n",
      "):\n",
      "    Alias for :func:`reactivex.return_value`.\n",
      "--------------------------------------------------------------------------------\n",
      "\n",
      "   1.8     M New subscription (29074) on stream 280528954\n",
      "   2.1     M [next]    0.3: {'answer': 104} -> 29074\n",
      "   2.1     M [cmpl]    0.3: fin -> 29074\n",
      "\n",
      " 506.1     M New subscription (21323) on stream 280528954\n",
      " 506.8     M [next]    0.6: {'answer': 104} -> 21323\n",
      " 506.8     M [cmpl]    0.6: fin -> 21323\n",
      "\n",
      " 507.4     M New subscription (47661) on stream 279325172\n",
      " 507.7     M [next]    0.2: 208 -> 47661\n",
      " 507.7     M [cmpl]    0.2: fin -> 47661\n"
     ]
    }
   ],
   "source": [
    "reset_start_time(reactivex.just)\n",
    "stream = reactivex.just({'answer': rand()})\n",
    "disposable = subs(stream)\n",
    "sleep(0.5)\n",
    "disposable = subs(stream) # same answer\n",
    "# all stream ops work, its a real stream:\n",
    "disposable = subs(stream.pipe(ops.map(lambda x: x.get('answer', 0) * 2)))\n"
   ]
  },
  {
   "cell_type": "markdown",
   "metadata": {},
   "source": [
    "## ..that was returned from a function *called at subscribe-time*: **[start](http://reactivex.io/documentation/operators/start.html)**"
   ]
  },
  {
   "cell_type": "code",
   "execution_count": 11,
   "metadata": {},
   "outputs": [
    {
     "name": "stdout",
     "output_type": "stream",
     "text": [
      "There is a little API difference to RxJS, see Remarks:\n",
      "\n",
      "\n",
      "\n",
      "========== start ==========\n",
      "\n",
      "module reactivex\n",
      "def start(\n",
      "    func: Callable[[], _T], scheduler: Optional[abc.SchedulerBase] = None\n",
      "):\n",
      "    Invokes the specified function asynchronously on the specified\n",
      "    scheduler, surfacing the result through an observable sequence.\n",
      "\n",
      "    .. marble::\n",
      "        :alt: start\n",
      "\n",
      "        [ start(lambda i: return 4) ]\n",
      "        -4-|\n",
      "          -4-|\n",
      "\n",
      "    Note:\n",
      "        The function is called immediately, not during the subscription\n",
      "        of the resulting sequence. Multiple subscriptions to the\n",
      "        resulting sequence can observe the function's result.\n",
      "\n",
      "    Example:\n",
      "        >>> res = reactivex.start(lambda: pprint('hello'))\n",
      "        >>> res = reactivex.start(lambda: pprint('hello'), rx.Scheduler.timeout)\n",
      "\n",
      "    Args:\n",
      "        func: Function to run asynchronously.\n",
      "        scheduler: [Optional] Scheduler to run the function on. If\n",
      "            not specified, defaults to an instance of\n",
      "            :class:`TimeoutScheduler <reactivex.scheduler.TimeoutScheduler>`.\n",
      "\n",
      "    Returns:\n",
      "        An observable sequence exposing the function's result value,\n",
      "        or an exception.\n",
      "--------------------------------------------------------------------------------\n",
      "   1.2    T6 function called\n",
      "\n",
      "   1.6     M New subscription (39382) on stream 280526153\n",
      "   1.7     M [next]    0.2: 134 -> 39382\n",
      "   1.8     M [cmpl]    0.2: fin -> 39382\n",
      "\n",
      "   1.9     M New subscription (33498) on stream 280526153\n",
      "   2.0     M [next]    0.1: 134 -> 33498\n",
      "   2.0     M [cmpl]    0.1: fin -> 33498\n",
      "\n",
      "\n",
      "========== Exceptions are handled correctly (an observable should never except): ==========\n",
      "\n",
      "\n",
      "   2.8     M New subscription (29095) on stream 279251303\n",
      "   2.9     M [err ]    0.1: division by zero -> 29095\n",
      "\n",
      "   3.0     M New subscription (26153) on stream 279251303\n",
      "   3.1     M [err ]    0.1: division by zero -> 26153\n"
     ]
    }
   ],
   "source": [
    "print('There is a little API difference to RxJS, see Remarks:\\n')\n",
    "rst(reactivex.start)\n",
    "\n",
    "def f():\n",
    "    log('function called')\n",
    "    return rand()\n",
    "\n",
    "stream = reactivex.start(func=f)\n",
    "d = subs(stream)\n",
    "d = subs(stream)\n",
    "\n",
    "header(\"Exceptions are handled correctly (an observable should never except):\")\n",
    "\n",
    "def breaking_f():    \n",
    "    return 1 / 0\n",
    "\n",
    "stream = reactivex.start(func=breaking_f)\n",
    "d = subs(stream)\n",
    "d = subs(stream)\n",
    "\n",
    "\n",
    "\n",
    "# startasync: only in python3 and possibly here(?) http://www.tornadoweb.org/en/stable/concurrent.html#tornado.concurrent.Future\n",
    "#stream = O.start_async(f)\n",
    "#d = subs(stream)\n"
   ]
  },
  {
   "cell_type": "markdown",
   "metadata": {},
   "source": [
    "## ..that was returned from an Action, Callable, Runnable, or something of that sort, called at subscribe-time: **[from](http://reactivex.io/documentation/operators/from.html)**"
   ]
  },
  {
   "cell_type": "code",
   "execution_count": 13,
   "metadata": {},
   "outputs": [
    {
     "name": "stdout",
     "output_type": "stream",
     "text": [
      "\n",
      "\n",
      "========== from_iterable ==========\n",
      "\n",
      "module reactivex\n",
      "def from_iterable(\n",
      "    iterable: Iterable[_T], scheduler: Optional[abc.SchedulerBase] = None\n",
      "):\n",
      "    Converts an iterable to an observable sequence.\n",
      "\n",
      "    .. marble::\n",
      "        :alt: from_iterable\n",
      "\n",
      "        [   from_iterable(1,2,3)    ]\n",
      "        ---1--2--3--|\n",
      "\n",
      "\n",
      "    Example:\n",
      "        >>> reactivex.from_iterable([1,2,3])\n",
      "\n",
      "    Args:\n",
      "        iterable: An Iterable to change into an observable sequence.\n",
      "        scheduler: [Optional] Scheduler instance to schedule the values on.\n",
      "            If not specified, the default is to use an instance of\n",
      "            :class:`CurrentThreadScheduler\n",
      "            <reactivex.scheduler.CurrentThreadScheduler>`.\n",
      "\n",
      "    Returns:\n",
      "        The observable sequence whose elements are pulled from the\n",
      "        given iterable sequence.\n",
      "--------------------------------------------------------------------------------\n",
      "\n",
      "   3.6     M New subscription (18926) on stream 279066055\n",
      "   3.8     M [next]    0.2: 1 -> 18926\n",
      "   3.8     M [next]    0.2: 2 -> 18926\n",
      "   3.9     M [next]    0.2: 493 -> 18926\n",
      "   3.9     M [cmpl]    0.2: fin -> 18926\n",
      "\n",
      "   4.1     M New subscription (72192) on stream 279251303\n",
      "   4.3     M [next]    0.1: 549 -> 72192\n",
      "   4.3     M [next]    0.2: 397 -> 72192\n",
      "   4.3     M [next]    0.2: 662 -> 72192\n",
      "   4.3     M [cmpl]    0.2: fin -> 72192\n"
     ]
    }
   ],
   "source": [
    "rst(reactivex.from_iterable)\n",
    "def f():\n",
    "    log('function called')\n",
    "    return rand()\n",
    "# aliases: reactivex.from_, reactivex.from_list\n",
    "# 1.: From a tuple:\n",
    "stream = reactivex.from_iterable((1,2,rand()))\n",
    "d = subs(stream)\n",
    "# d = subs(stream) # same result\n",
    "\n",
    "# 2. from a generator\n",
    "gen = (rand() for j in range(3))\n",
    "stream = reactivex.from_iterable(gen)\n",
    "d = subs(stream)\n",
    "\n"
   ]
  },
  {
   "cell_type": "code",
   "execution_count": 19,
   "metadata": {},
   "outputs": [
    {
     "name": "stdout",
     "output_type": "stream",
     "text": [
      "\n",
      "\n",
      "========== from_callback ==========\n",
      "\n",
      "module reactivex\n",
      "def from_callback(\n",
      "    func: Callable[..., Callable[..., None]],\n",
      "    mapper: Optional[typing.Mapper[Any, Any]] = None,\n",
      "):\n",
      "    Converts a callback function to an observable sequence.\n",
      "\n",
      "    Args:\n",
      "        func: Function with a callback as the last argument to\n",
      "            convert to an Observable sequence.\n",
      "        mapper: [Optional] A mapper which takes the arguments\n",
      "            from the callback to produce a single item to yield on\n",
      "            next.\n",
      "\n",
      "    Returns:\n",
      "        A function, when executed with the required arguments minus\n",
      "        the callback, produces an Observable sequence with a single\n",
      "        value of the arguments to the callback as a list.\n",
      "--------------------------------------------------------------------------------\n",
      "\n",
      "   5.9     M New subscription (55311) on stream 279325332\n",
      "   6.5     M called f\n"
     ]
    }
   ],
   "source": [
    "rst(reactivex.from_callback)\n",
    "# in my words: In the on_next of the subscriber you'll have the original arguments,\n",
    "# potentially objects, e.g. user original http requests.\n",
    "# i.e. you could merge those with the result stream of a backend call to\n",
    "# a webservice or db and send the request.response back to the user then.\n",
    "\n",
    "def g(f, a, b):\n",
    "    f(a, b)\n",
    "    log('called f')\n",
    "stream = reactivex.from_callback(lambda a, b, f: g(f, a, b))('fu', 'bar')\n",
    "d = subs(stream.pipe(ops.delay(200)))\n",
    "# d = subs(stream.delay(200)) # does NOT work\n"
   ]
  },
  {
   "cell_type": "markdown",
   "metadata": {},
   "source": [
    "## ...after a specified delay: **[timer](http://reactivex.io/documentation/operators/timer.html)**"
   ]
  },
  {
   "cell_type": "code",
   "execution_count": 21,
   "metadata": {},
   "outputs": [
    {
     "name": "stdout",
     "output_type": "stream",
     "text": [
      "\n",
      "\n",
      "========== True ==========\n",
      "\n"
     ]
    },
    {
     "ename": "AttributeError",
     "evalue": "'Observable' object has no attribute 'time_interval'",
     "output_type": "error",
     "traceback": [
      "\u001b[0;31m---------------------------------------------------------------------------\u001b[0m",
      "\u001b[0;31mAttributeError\u001b[0m                            Traceback (most recent call last)",
      "Input \u001b[0;32mIn [21]\u001b[0m, in \u001b[0;36m<cell line: 3>\u001b[0;34m()\u001b[0m\n\u001b[1;32m      1\u001b[0m rst()\n\u001b[1;32m      2\u001b[0m \u001b[38;5;66;03m# start a stream of 0, 1, 2, .. after 200 ms, with a delay of 100 ms:\u001b[39;00m\n\u001b[0;32m----> 3\u001b[0m stream \u001b[38;5;241m=\u001b[39m \u001b[43mreactivex\u001b[49m\u001b[38;5;241;43m.\u001b[39;49m\u001b[43mtimer\u001b[49m\u001b[43m(\u001b[49m\u001b[38;5;241;43m200\u001b[39;49m\u001b[43m,\u001b[49m\u001b[43m \u001b[49m\u001b[38;5;241;43m100\u001b[39;49m\u001b[43m)\u001b[49m\u001b[38;5;241;43m.\u001b[39;49m\u001b[43mtime_interval\u001b[49m()\\\n\u001b[1;32m      4\u001b[0m     \u001b[38;5;241m.\u001b[39mmap(\u001b[38;5;28;01mlambda\u001b[39;00m x: \u001b[38;5;124m'\u001b[39m\u001b[38;5;124mval:\u001b[39m\u001b[38;5;132;01m%s\u001b[39;00m\u001b[38;5;124m dt:\u001b[39m\u001b[38;5;132;01m%s\u001b[39;00m\u001b[38;5;124m'\u001b[39m \u001b[38;5;241m%\u001b[39m (x\u001b[38;5;241m.\u001b[39mvalue, x\u001b[38;5;241m.\u001b[39minterval))\\\n\u001b[1;32m      5\u001b[0m     \u001b[38;5;241m.\u001b[39mtake(\u001b[38;5;241m3\u001b[39m)\n\u001b[1;32m      6\u001b[0m d \u001b[38;5;241m=\u001b[39m subs(stream, name\u001b[38;5;241m=\u001b[39m\u001b[38;5;124m'\u001b[39m\u001b[38;5;124mobserver1\u001b[39m\u001b[38;5;124m'\u001b[39m)\n\u001b[1;32m      7\u001b[0m \u001b[38;5;66;03m# intermix directly with another one\u001b[39;00m\n",
      "\u001b[0;31mAttributeError\u001b[0m: 'Observable' object has no attribute 'time_interval'"
     ]
    }
   ],
   "source": [
    "rst()\n",
    "# start a stream of 0, 1, 2, .. after 200 ms, with a delay of 100 ms:\n",
    "stream = reactivex.timer(200, 100).time_interval()\\\n",
    "    .map(lambda x: 'val:%s dt:%s' % (x.value, x.interval))\\\n",
    "    .take(3)\n",
    "d = subs(stream, name='observer1')\n",
    "# intermix directly with another one\n",
    "d = subs(stream, name='observer2')"
   ]
  },
  {
   "cell_type": "markdown",
   "metadata": {},
   "source": [
    "## ...that emits a sequence of items repeatedly: **[repeat](http://reactivex.io/documentation/operators/repeat.html) **"
   ]
  },
  {
   "cell_type": "code",
   "execution_count": 26,
   "metadata": {},
   "outputs": [
    {
     "name": "stdout",
     "output_type": "stream",
     "text": [
      "\n",
      "\n",
      "========== repeat ==========\n",
      "\n",
      "module reactivex.operators\n",
      "def repeat(\n",
      "    repeat_count: Optional[int] = None,\n",
      "):\n",
      "    Repeats the observable sequence a specified number of times.\n",
      "    If the repeat count is not specified, the sequence repeats\n",
      "    indefinitely.\n",
      "\n",
      "    .. marble::\n",
      "        :alt: repeat\n",
      "\n",
      "        -1--2-|\n",
      "        [    repeat(3)     ]\n",
      "        -1--2--1--2--1--2-|\n",
      "\n",
      "\n",
      "    Examples:\n",
      "        >>> repeated = repeat()\n",
      "        >>> repeated = repeat(42)\n",
      "    Args:\n",
      "        repeat_count: Number of times to repeat the sequence. If not\n",
      "        provided, repeats the sequence indefinitely.\n",
      "\n",
      "    Returns:\n",
      "        An operator function that takes an observable sources and\n",
      "        returns an observable sequence producing the elements of the\n",
      "        given sequence repeatedly.\n",
      "--------------------------------------------------------------------------------\n",
      "\n",
      "   2.1     M New subscription (40310) on stream 281144037\n"
     ]
    },
    {
     "ename": "AttributeError",
     "evalue": "'function' object has no attribute 'subscribe'",
     "output_type": "error",
     "traceback": [
      "\u001b[0;31m---------------------------------------------------------------------------\u001b[0m",
      "\u001b[0;31mAttributeError\u001b[0m                            Traceback (most recent call last)",
      "Input \u001b[0;32mIn [26]\u001b[0m, in \u001b[0;36m<cell line: 3>\u001b[0;34m()\u001b[0m\n\u001b[1;32m      1\u001b[0m rst(ops\u001b[38;5;241m.\u001b[39mrepeat)\n\u001b[1;32m      2\u001b[0m \u001b[38;5;66;03m# repeat is over *values*, not function calls. Use generate or create for function calls!\u001b[39;00m\n\u001b[0;32m----> 3\u001b[0m \u001b[43msubs\u001b[49m\u001b[43m(\u001b[49m\u001b[43mops\u001b[49m\u001b[38;5;241;43m.\u001b[39;49m\u001b[43mrepeat\u001b[49m\u001b[43m(\u001b[49m\u001b[38;5;241;43m20\u001b[39;49m\u001b[43m)\u001b[49m\u001b[43m)\u001b[49m\n\u001b[1;32m      5\u001b[0m header(\u001b[38;5;124m'\u001b[39m\u001b[38;5;124mdo while:\u001b[39m\u001b[38;5;124m'\u001b[39m)\n\u001b[1;32m      6\u001b[0m l \u001b[38;5;241m=\u001b[39m []\n",
      "File \u001b[0;32m~/Desktop/projects/RxPY/notebooks/reactivex.io/startup.py:120\u001b[0m, in \u001b[0;36msubs\u001b[0;34m(src, **kw)\u001b[0m\n\u001b[1;32m    117\u001b[0m \u001b[38;5;28;01mdef\u001b[39;00m \u001b[38;5;21msubs\u001b[39m(src, \u001b[38;5;241m*\u001b[39m\u001b[38;5;241m*\u001b[39mkw):\n\u001b[1;32m    118\u001b[0m     \u001b[38;5;66;03m# required for e.g. .multicast:\u001b[39;00m\n\u001b[1;32m    119\u001b[0m     obs \u001b[38;5;241m=\u001b[39m Subscriber(src, \u001b[38;5;241m*\u001b[39m\u001b[38;5;241m*\u001b[39mkw)\n\u001b[0;32m--> 120\u001b[0m     subscription \u001b[38;5;241m=\u001b[39m \u001b[43msrc\u001b[49m\u001b[38;5;241;43m.\u001b[39;49m\u001b[43msubscribe\u001b[49m(obs)\n\u001b[1;32m    121\u001b[0m     \u001b[38;5;28;01mif\u001b[39;00m kw\u001b[38;5;241m.\u001b[39mpop(\u001b[38;5;124m\"\u001b[39m\u001b[38;5;124mreturn_subscriber\u001b[39m\u001b[38;5;124m\"\u001b[39m, \u001b[38;5;28;01mNone\u001b[39;00m):\n\u001b[1;32m    122\u001b[0m         \u001b[38;5;28;01mreturn\u001b[39;00m subscription, obs\n",
      "\u001b[0;31mAttributeError\u001b[0m: 'function' object has no attribute 'subscribe'"
     ]
    },
    {
     "name": "stdout",
     "output_type": "stream",
     "text": [
      "45537.3    T9 [next] 300013.7: ['fu', 'bar'] -> 23120\n",
      "45539.6    T9 [cmpl] 300015.8: fin -> 23120\n"
     ]
    }
   ],
   "source": [
    "rst(ops.repeat)\n",
    "# repeat is over *values*, not function calls. Use generate or create for function calls!\n",
    "subs(ops.repeat(20))\n",
    "\n",
    "header('do while:')\n",
    "l = []\n",
    "def condition(x):\n",
    "    l.append(1)\n",
    "    return True if len(l) < 2 else False\n",
    "stream = reactivex.just(42).do_while(condition)\n",
    "d = subs(stream)\n",
    "\n"
   ]
  },
  {
   "cell_type": "markdown",
   "metadata": {},
   "source": [
    "## ...from scratch, with custom logic and cleanup (calling a function again and again): **[create](http://reactivex.io/documentation/operators/create.html) **"
   ]
  },
  {
   "cell_type": "code",
   "execution_count": 28,
   "metadata": {},
   "outputs": [
    {
     "name": "stdout",
     "output_type": "stream",
     "text": [
      "\n",
      "\n",
      "========== create ==========\n",
      "\n",
      "module reactivex\n",
      "def create(subscribe: typing.Subscription[_T]):\n",
      "    Creates an observable sequence object from the specified\n",
      "        subscription function.\n",
      "\n",
      "    .. marble::\n",
      "        :alt: create\n",
      "\n",
      "        [     create(a)    ]\n",
      "        ---1---2---3---4---|\n",
      "\n",
      "    Args:\n",
      "        subscribe: Subscription function.\n",
      "\n",
      "    Returns:\n",
      "        An observable sequence that can be subscribed to via the given\n",
      "        subscription function.\n",
      "--------------------------------------------------------------------------------\n",
      "\n",
      "   1.5     M New subscription (22997) on stream 281172788\n",
      "   2.0     M [err ]    0.6: f() takes 1 positional argument but 2 were given -> 22997\n",
      "\n",
      "   2.2     M New subscription (55140) on stream 281172788\n",
      "   2.5     M [err ]    0.3: f() takes 1 positional argument but 2 were given -> 55140\n",
      "\n",
      "\n",
      "========== Exceptions are handled nicely ==========\n",
      "\n",
      "\n",
      "   1.4     M New subscription (73023) on stream 279372192\n",
      "   1.9     M [err ]    0.4: excepting_f() takes 1 positional argument but 2 were given -> 73023\n",
      "\n",
      "   2.1     M New subscription (72815) on stream 279372192\n",
      "   2.2     M [err ]    0.1: excepting_f() takes 1 positional argument but 2 were given -> 72815\n",
      "\n",
      "\n",
      "========== Feature or Bug? ==========\n",
      "\n",
      "(where are the first two values?)\n",
      "\n",
      "   0.8     M New subscription (55143) on stream 281227701\n",
      "   1.5     M [err ]    0.7: excepting_f() takes 1 positional argument but 2 were given -> 55143\n",
      "\n",
      "   1.9     M New subscription (72192) on stream 281227701\n",
      "   2.3     M [err ]    0.5: excepting_f() takes 1 positional argument but 2 were given -> 72192\n"
     ]
    }
   ],
   "source": [
    "rx = reactivex.create\n",
    "rst(rx)\n",
    "\n",
    "def f(obs):\n",
    "    # this function is called for every observer\n",
    "    obs.on_next(rand())\n",
    "    obs.on_next(rand())\n",
    "    obs.on_completed()\n",
    "    def cleanup():\n",
    "        log('cleaning up...')\n",
    "    return cleanup\n",
    "stream = reactivex.create(f).pipe(ops.delay(200)) # the delay causes the cleanup called before the subs gets the vals\n",
    "d = subs(stream)\n",
    "d = subs(stream)\n",
    "\n",
    "\n",
    "\n",
    "\n",
    "sleep(0.5)\n",
    "rst(title='Exceptions are handled nicely')\n",
    "l = []\n",
    "def excepting_f(obs):\n",
    "    for i in range(3):\n",
    "        l.append(1)\n",
    "        obs.on_next('%s %s (observer hash: %s)' % (i, 1. / (3 - len(l)), hash(obs) ))\n",
    "    obs.on_completed()\n",
    "\n",
    "stream = reactivex.create(excepting_f)\n",
    "d = subs(stream)\n",
    "d = subs(stream)\n",
    "\n",
    "\n",
    "\n",
    "\n",
    "rst(title='Feature or Bug?')\n",
    "print('(where are the first two values?)')\n",
    "l = []\n",
    "def excepting_f(obs):\n",
    "    for i in range(3):\n",
    "        l.append(1)\n",
    "        obs.on_next('%s %s (observer hash: %s)' % (i, 1. / (3 - len(l)), hash(obs) ))\n",
    "    obs.on_completed()\n",
    "\n",
    "stream = reactivex.create(excepting_f).pipe(ops.delay(100))\n",
    "d = subs(stream)\n",
    "d = subs(stream)\n",
    "# I think its an (amazing) feature, preventing to process functions results of later(!) failing functions\n"
   ]
  },
  {
   "cell_type": "code",
   "execution_count": 10,
   "metadata": {},
   "outputs": [
    {
     "name": "stdout",
     "output_type": "stream",
     "text": [
      "\n",
      "\n",
      "========== generate ==========\n",
      "\n",
      "module rx.linq.observable.generate\n",
      "@extensionclassmethod(Observable)\n",
      "def generate(cls, initial_state, condition, iterate, result_mapper, scheduler=None):\n",
      "    Generates an observable sequence by running a state-driven loop\n",
      "    producing the sequence's elements, using the specified scheduler to\n",
      "    send out observer messages.\n",
      "\n",
      "    1 - res = reactivex.Observable.generate(0,\n",
      "        lambda x: x < 10,\n",
      "        lambda x: x + 1,\n",
      "        lambda x: x)\n",
      "    2 - res = reactivex.Observable.generate(0,\n",
      "        lambda x: x < 10,\n",
      "        lambda x: x + 1,\n",
      "        lambda x: x,\n",
      "        Rx.Scheduler.timeout)\n",
      "\n",
      "    Keyword arguments:\n",
      "    initial_state -- Initial state.\n",
      "    condition -- Condition to terminate generation (upon returning False).\n",
      "    iterate -- Iteration step function.\n",
      "    result_mapper -- Selector function for results produced in the\n",
      "        sequence.\n",
      "    scheduler -- [Optional] Scheduler on which to run the generator loop.\n",
      "        If not provided, defaults to CurrentThreadScheduler.\n",
      "\n",
      "    Returns the generated sequence.\n",
      "--------------------------------------------------------------------------------\n",
      "\n",
      "   4.8     M New subscription on stream 274475993\n",
      "   5.7     M [next]    0.7: 0\n",
      "   6.4     M [next]    1.4: 2.2\n",
      "   6.6     M [next]    1.6: 4.4\n",
      "   7.1     M [next]    2.1: 6.6\n",
      "   7.3     M [cmpl]    2.3: fin\n"
     ]
    }
   ],
   "source": [
    "rx = O.generate\n",
    "rst(rx)\n",
    "\"\"\"The basic form of generate takes four parameters:\n",
    "\n",
    "the first item to emit\n",
    "a function to test an item to determine whether to emit it (true) or terminate the Observable (false)\n",
    "a function to generate the next item to test and emit based on the value of the previous item\n",
    "a function to transform items before emitting them\n",
    "\"\"\"\n",
    "def generator_based_on_previous(x): return x + 1.1\n",
    "def doubler(x): return 2 * x\n",
    "d = subs(rx(0, lambda x: x < 4, generator_based_on_previous, doubler))"
   ]
  },
  {
   "cell_type": "code",
   "execution_count": 29,
   "metadata": {},
   "outputs": [
    {
     "name": "stdout",
     "output_type": "stream",
     "text": [
      "\n",
      "\n",
      "========== generate_with_relative_time ==========\n",
      "\n",
      "module reactivex\n",
      "def generate_with_relative_time(\n",
      "    initial_state: _TState,\n",
      "    condition: typing.Predicate[_TState],\n",
      "    iterate: typing.Mapper[_TState, _TState],\n",
      "    time_mapper: Callable[[_TState], typing.RelativeTime],\n",
      "):\n",
      "    Generates an observable sequence by iterating a state from an\n",
      "    initial state until the condition fails.\n",
      "\n",
      "    .. marble::\n",
      "        :alt: generate_with_relative_time\n",
      "\n",
      "        [generate_with_relative_time()]\n",
      "        -1-2-3-4-|\n",
      "\n",
      "    Example:\n",
      "        >>> res = reactivex.generate_with_relative_time(\n",
      "            0, lambda x: True, lambda x: x + 1, lambda x: 0.5\n",
      "        )\n",
      "\n",
      "    Args:\n",
      "        initial_state: Initial state.\n",
      "        condition: Condition to terminate generation (upon returning\n",
      "            :code:`False`).\n",
      "        iterate: Iteration step function.\n",
      "        time_mapper: Time mapper function to control the speed of\n",
      "            values being produced each iteration, returning relative times, i.e.\n",
      "            either a :class:`float` denoting seconds, or an instance of\n",
      "            :class:`timedelta`.\n",
      "\n",
      "    Returns:\n",
      "        The generated sequence.\n",
      "--------------------------------------------------------------------------------\n"
     ]
    },
    {
     "ename": "TypeError",
     "evalue": "generate_with_relative_time() takes 4 positional arguments but 5 were given",
     "output_type": "error",
     "traceback": [
      "\u001b[0;31m---------------------------------------------------------------------------\u001b[0m",
      "\u001b[0;31mTypeError\u001b[0m                                 Traceback (most recent call last)",
      "Input \u001b[0;32mIn [29]\u001b[0m, in \u001b[0;36m<cell line: 3>\u001b[0;34m()\u001b[0m\n\u001b[1;32m      1\u001b[0m rx \u001b[38;5;241m=\u001b[39m reactivex\u001b[38;5;241m.\u001b[39mgenerate_with_relative_time\n\u001b[1;32m      2\u001b[0m rst(rx)\n\u001b[0;32m----> 3\u001b[0m stream \u001b[38;5;241m=\u001b[39m \u001b[43mrx\u001b[49m\u001b[43m(\u001b[49m\u001b[38;5;241;43m1\u001b[39;49m\u001b[43m,\u001b[49m\u001b[43m \u001b[49m\u001b[38;5;28;43;01mlambda\u001b[39;49;00m\u001b[43m \u001b[49m\u001b[43mx\u001b[49m\u001b[43m:\u001b[49m\u001b[43m \u001b[49m\u001b[43mx\u001b[49m\u001b[43m \u001b[49m\u001b[38;5;241;43m<\u001b[39;49m\u001b[43m \u001b[49m\u001b[38;5;241;43m4\u001b[39;49m\u001b[43m,\u001b[49m\u001b[43m \u001b[49m\u001b[38;5;28;43;01mlambda\u001b[39;49;00m\u001b[43m \u001b[49m\u001b[43mx\u001b[49m\u001b[43m:\u001b[49m\u001b[43m \u001b[49m\u001b[43mx\u001b[49m\u001b[43m \u001b[49m\u001b[38;5;241;43m+\u001b[39;49m\u001b[43m \u001b[49m\u001b[38;5;241;43m1\u001b[39;49m\u001b[43m,\u001b[49m\u001b[43m \u001b[49m\u001b[38;5;28;43;01mlambda\u001b[39;49;00m\u001b[43m \u001b[49m\u001b[43mx\u001b[49m\u001b[43m:\u001b[49m\u001b[43m \u001b[49m\u001b[43mx\u001b[49m\u001b[43m,\u001b[49m\u001b[43m \u001b[49m\u001b[38;5;28;43;01mlambda\u001b[39;49;00m\u001b[43m \u001b[49m\u001b[43mt\u001b[49m\u001b[43m:\u001b[49m\u001b[43m \u001b[49m\u001b[38;5;241;43m100\u001b[39;49m\u001b[43m)\u001b[49m\n\u001b[1;32m      4\u001b[0m d \u001b[38;5;241m=\u001b[39m subs(stream)\n",
      "\u001b[0;31mTypeError\u001b[0m: generate_with_relative_time() takes 4 positional arguments but 5 were given"
     ]
    }
   ],
   "source": [
    "rx = reactivex.generate_with_relative_time\n",
    "rst(rx)\n",
    "stream = rx(1, lambda x: x < 4, lambda x: x + 1, lambda x: x, lambda t: 100)\n",
    "d = subs(stream)\n"
   ]
  },
  {
   "cell_type": "markdown",
   "metadata": {},
   "source": [
    "## ...for each observer that subscribes OR according to a condition at subscription time: **[defer / if_then](http://reactivex.io/documentation/operators/defer.html) **"
   ]
  },
  {
   "cell_type": "code",
   "execution_count": 12,
   "metadata": {},
   "outputs": [
    {
     "name": "stdout",
     "output_type": "stream",
     "text": [
      "\n",
      "\n",
      "========== defer ==========\n",
      "\n",
      "module rx.linq.observable.defer\n",
      "@extensionclassmethod(Observable)\n",
      "def defer(cls, observable_factory):\n",
      "    Returns an observable sequence that invokes the specified factory\n",
      "    function whenever a new observer subscribes.\n",
      "\n",
      "    Example:\n",
      "    1 - res = reactivex.Observable.defer(lambda: reactivex.Observable.from_([1,2,3]))\n",
      "\n",
      "    Keyword arguments:\n",
      "    :param types.FunctionType observable_factory: Observable factory function\n",
      "        to invoke for each observer that subscribes to the resulting sequence.\n",
      "\n",
      "    :returns: An observable sequence whose observers trigger an invocation\n",
      "    of the given observable factory function.\n",
      "    :rtype: Observable\n",
      "--------------------------------------------------------------------------------\n",
      "\n",
      "   2.7     M New subscription on stream 274475969\n",
      "   3.4     M [next]    0.6: 38\n",
      "   3.5     M [cmpl]    0.7: fin\n",
      "\n",
      "   4.4     M New subscription on stream 274475969\n",
      "   4.9     M [next]    0.4: 77\n",
      "   5.2     M [cmpl]    0.7: fin\n"
     ]
    }
   ],
   "source": [
    "rst(O.defer)\n",
    "# plural! (unique per subscription)\n",
    "streams = O.defer(lambda: O.just(rand()))\n",
    "d = subs(streams)\n",
    "d = subs(streams) # gets other values - created by subscription!"
   ]
  },
  {
   "cell_type": "code",
   "execution_count": 13,
   "metadata": {},
   "outputs": [
    {
     "name": "stdout",
     "output_type": "stream",
     "text": [
      "\n",
      "\n",
      "========== if_then ==========\n",
      "\n",
      "module rx.linq.observable.ifthen\n",
      "@extensionclassmethod(Observable)\n",
      "def if_then(cls, condition, then_source, else_source=None, scheduler=None):\n",
      "    Determines whether an observable collection contains values.\n",
      "\n",
      "    Example:\n",
      "    1 - res = reactivex.Observable.if(condition, obs1)\n",
      "    2 - res = reactivex.Observable.if(condition, obs1, obs2)\n",
      "    3 - res = reactivex.Observable.if(condition, obs1, scheduler=scheduler)\n",
      "\n",
      "    Keyword parameters:\n",
      "    condition -- {Function} The condition which determines if the\n",
      "        then_source or else_source will be run.\n",
      "    then_source -- {Observable} The observable sequence or Promise that\n",
      "        will be run if the condition function returns true.\n",
      "    else_source -- {Observable} [Optional] The observable sequence or\n",
      "        Promise that will be run if the condition function returns False.\n",
      "        If this is not provided, it defaults to reactivex.empty\n",
      "    scheduler -- [Optional] Scheduler to use.\n",
      "\n",
      "    Returns an observable {Observable} sequence which is either the\n",
      "    then_source or else_source.\n",
      "--------------------------------------------------------------------------------\n",
      "\n",
      "   3.3     M New subscription on stream 274480673\n",
      "   3.6     M [next]    0.2: 43\n",
      "   3.8     M [cmpl]    0.5: fin\n",
      "   4.0     M condition will now evaluate falsy:\n",
      "\n",
      "   4.4     M New subscription on stream 274480817\n",
      "   4.6     M [next]    0.2: 52\n",
      "   4.7     M [cmpl]    0.3: fin\n",
      "\n",
      "   5.2     M New subscription on stream 274480817\n",
      "   5.6     M [next]    0.2: 52\n",
      "   5.8     M [cmpl]    0.4: fin\n"
     ]
    }
   ],
   "source": [
    "# evaluating a condition at subscription time in order to decide which of two streams to take.\n",
    "rst(O.if_then)\n",
    "cond = True\n",
    "def should_run():\n",
    "    return cond\n",
    "streams = O.if_then(should_run, O.return_value(43), O.return_value(56))\n",
    "d = subs(streams)\n",
    "\n",
    "log('condition will now evaluate falsy:')\n",
    "cond = False\n",
    "streams = O.if_then(should_run, O.return_value(43), O.return_value(rand()))\n",
    "d = subs(streams)\n",
    "d = subs(streams)"
   ]
  },
  {
   "cell_type": "markdown",
   "metadata": {},
   "source": [
    "## ...that emits a sequence of integers: **[range](http://reactivex.io/documentation/operators/range.html) **"
   ]
  },
  {
   "cell_type": "code",
   "execution_count": 14,
   "metadata": {},
   "outputs": [
    {
     "name": "stdout",
     "output_type": "stream",
     "text": [
      "\n",
      "\n",
      "========== range ==========\n",
      "\n",
      "module rx.linq.observable.range\n",
      "@extensionclassmethod(Observable)\n",
      "def range(cls, start, count, scheduler=None):\n",
      "    Generates an observable sequence of integral numbers within a\n",
      "    specified range, using the specified scheduler to send out observer\n",
      "    messages.\n",
      "\n",
      "    1 - res = reactivex.Observable.range(0, 10)\n",
      "    2 - res = reactivex.Observable.range(0, 10, rx.Scheduler.timeout)\n",
      "\n",
      "    Keyword arguments:\n",
      "    start -- The value of the first integer in the sequence.\n",
      "    count -- The number of sequential integers to generate.\n",
      "    scheduler -- [Optional] Scheduler to run the generator loop on. If not\n",
      "        specified, defaults to Scheduler.current_thread.\n",
      "\n",
      "    Returns an observable sequence that contains a range of sequential\n",
      "    integral numbers.\n",
      "--------------------------------------------------------------------------------\n",
      "\n",
      "   2.9     M New subscription on stream 274475905\n",
      "   3.7     M [next]    0.4: 0\n",
      "   4.3     M [next]    1.0: 1\n",
      "   4.6     M [next]    1.3: 2\n",
      "   4.9     M [cmpl]    1.6: fin\n"
     ]
    }
   ],
   "source": [
    "rst(O.range)\n",
    "d = subs(O.range(0, 3))"
   ]
  },
  {
   "cell_type": "markdown",
   "metadata": {},
   "source": [
    "### ...at particular intervals of time: **[interval](http://reactivex.io/documentation/operators/interval.html) **\n",
    "\n",
    "(you can `.publish()` it to get an easy \"hot\" observable)"
   ]
  },
  {
   "cell_type": "code",
   "execution_count": 47,
   "metadata": {},
   "outputs": [
    {
     "name": "stdout",
     "output_type": "stream",
     "text": [
      "\n",
      "\n",
      "========== interval ==========\n",
      "\n",
      "module reactivex\n",
      "def interval(\n",
      "    period: typing.RelativeTime, scheduler: Optional[abc.SchedulerBase] = None\n",
      "):\n",
      "    Returns an observable sequence that produces a value after each period.\n",
      "\n",
      "    .. marble::\n",
      "        :alt: interval\n",
      "\n",
      "        [  interval()   ]\n",
      "        ---1---2---3---4--->\n",
      "\n",
      "    Example:\n",
      "        >>> res = reactivex.interval(1.0)\n",
      "\n",
      "    Args:\n",
      "        period: Period for producing the values in the resulting sequence\n",
      "            (specified as a :class:`float` denoting seconds or an instance of\n",
      "            :class:`timedelta`).\n",
      "        scheduler:  Scheduler to run the interval on. If not specified, an\n",
      "            instance of :class:`TimeoutScheduler <reactivex.scheduler.TimeoutScheduler>`\n",
      "            is used.\n",
      "\n",
      "    Returns:\n",
      "        An observable sequence that produces a value after each period.\n",
      "--------------------------------------------------------------------------------\n"
     ]
    },
    {
     "ename": "NameError",
     "evalue": "name 'x' is not defined",
     "output_type": "error",
     "traceback": [
      "\u001b[0;31m---------------------------------------------------------------------------\u001b[0m",
      "\u001b[0;31mNameError\u001b[0m                                 Traceback (most recent call last)",
      "Input \u001b[0;32mIn [47]\u001b[0m, in \u001b[0;36m<cell line: 2>\u001b[0;34m()\u001b[0m\n\u001b[1;32m      1\u001b[0m rst(reactivex\u001b[38;5;241m.\u001b[39minterval)\n\u001b[0;32m----> 2\u001b[0m d \u001b[38;5;241m=\u001b[39m subs(reactivex\u001b[38;5;241m.\u001b[39minterval(period\u001b[38;5;241m=\u001b[39m\u001b[38;5;241m100\u001b[39m)\u001b[38;5;241m.\u001b[39mpipe(ops\u001b[38;5;241m.\u001b[39mtime_interval(),ops\u001b[38;5;241m.\u001b[39mmap(\u001b[38;5;28;01mlambda\u001b[39;00m x, v: \u001b[38;5;124m'\u001b[39m\u001b[38;5;132;01m%(interval)s\u001b[39;00m\u001b[38;5;124m \u001b[39m\u001b[38;5;132;01m%(value)s\u001b[39;00m\u001b[38;5;124m'\u001b[39m,ItemGetter(\u001b[43mx\u001b[49m))\u001b[38;5;241m.\u001b[39mtake(\u001b[38;5;241m3\u001b[39m)))\n",
      "\u001b[0;31mNameError\u001b[0m: name 'x' is not defined"
     ]
    }
   ],
   "source": [
    "rst(reactivex.interval)\n",
    "d = subs(reactivex.interval(period=100).pipe(ops.time_interval(),ops.map(lambda x, v: '%(interval)s %(value)s',ItemGetter(x)).take(3)))"
   ]
  },
  {
   "cell_type": "markdown",
   "metadata": {},
   "source": [
    "### ...after a specified delay (see timer)"
   ]
  },
  {
   "cell_type": "markdown",
   "metadata": {},
   "source": [
    "## ...that completes without emitting items: **[empty](http://reactivex.io/documentation/operators/empty-never-throw.html) **"
   ]
  },
  {
   "cell_type": "code",
   "execution_count": 48,
   "metadata": {},
   "outputs": [
    {
     "name": "stdout",
     "output_type": "stream",
     "text": [
      "\n",
      "\n",
      "========== empty ==========\n",
      "\n",
      "module reactivex\n",
      "def empty(scheduler: Optional[abc.SchedulerBase] = None):\n",
      "    Returns an empty observable sequence.\n",
      "\n",
      "    .. marble::\n",
      "        :alt: empty\n",
      "\n",
      "        [     empty()     ]\n",
      "        --|\n",
      "\n",
      "    Example:\n",
      "        >>> obs = reactivex.empty()\n",
      "\n",
      "    Args:\n",
      "        scheduler: [Optional] Scheduler instance to send the termination call\n",
      "            on. By default, this will use an instance of\n",
      "            :class:`ImmediateScheduler <reactivex.scheduler.ImmediateScheduler>`.\n",
      "\n",
      "    Returns:\n",
      "        An observable sequence with no elements.\n",
      "--------------------------------------------------------------------------------\n",
      "\n",
      "   5.9     M New subscription (71158) on stream 281172869\n",
      "   6.7     M [cmpl]    0.7: fin -> 71158\n"
     ]
    }
   ],
   "source": [
    "rst(reactivex.empty)\n",
    "d = subs(reactivex.empty())"
   ]
  },
  {
   "cell_type": "markdown",
   "metadata": {},
   "source": [
    "## ...that does nothing at all: **[never](http://reactivex.io/documentation/operators/empty-never-throw.html) **"
   ]
  },
  {
   "cell_type": "code",
   "execution_count": 49,
   "metadata": {},
   "outputs": [
    {
     "name": "stdout",
     "output_type": "stream",
     "text": [
      "\n",
      "\n",
      "========== never ==========\n",
      "\n",
      "module reactivex\n",
      "def never():\n",
      "    Returns a non-terminating observable sequence, which can be used\n",
      "    to denote an infinite duration (e.g. when using reactive joins).\n",
      "\n",
      "    .. marble::\n",
      "        :alt: never\n",
      "\n",
      "        [     never()     ]\n",
      "        -->\n",
      "\n",
      "    Returns:\n",
      "        An observable sequence whose observers will never get called.\n",
      "--------------------------------------------------------------------------------\n",
      "\n",
      "   4.1     M New subscription (27752) on stream 281229809\n"
     ]
    }
   ],
   "source": [
    "rst(reactivex.never)\n",
    "d = subs(reactivex.never())"
   ]
  },
  {
   "cell_type": "markdown",
   "metadata": {},
   "source": [
    "## ...that excepts: **[throw](http://reactivex.io/documentation/operators/empty-never-throw.html) **"
   ]
  },
  {
   "cell_type": "code",
   "execution_count": 54,
   "metadata": {},
   "outputs": [
    {
     "name": "stdout",
     "output_type": "stream",
     "text": [
      "\n",
      "\n",
      "========== on_error ==========\n",
      "\n",
      "module reactivex.observer.observer\n",
      "def on_error(self, error: Exception):\n",
      "    Notify the observer that an exception has occurred.\n",
      "\n",
      "        Args:\n",
      "            error: The error that occurred.\n",
      "--------------------------------------------------------------------------------\n"
     ]
    },
    {
     "ename": "AttributeError",
     "evalue": "module 'reactivex' has no attribute 'on_error'",
     "output_type": "error",
     "traceback": [
      "\u001b[0;31m---------------------------------------------------------------------------\u001b[0m",
      "\u001b[0;31mAttributeError\u001b[0m                            Traceback (most recent call last)",
      "Input \u001b[0;32mIn [54]\u001b[0m, in \u001b[0;36m<cell line: 2>\u001b[0;34m()\u001b[0m\n\u001b[1;32m      1\u001b[0m rst(reactivex\u001b[38;5;241m.\u001b[39mObserver\u001b[38;5;241m.\u001b[39mon_error)\n\u001b[0;32m----> 2\u001b[0m d \u001b[38;5;241m=\u001b[39m subs(\u001b[43mreactivex\u001b[49m\u001b[38;5;241;43m.\u001b[39;49m\u001b[43mon_error\u001b[49m(error\u001b[38;5;241m=\u001b[39m\u001b[38;5;167;01mZeroDivisionError\u001b[39;00m))\n",
      "\u001b[0;31mAttributeError\u001b[0m: module 'reactivex' has no attribute 'on_error'"
     ]
    }
   ],
   "source": [
    "rst(reactivex.Observer.on_error)\n",
    "d = subs(reactivex.on_error(error=ZeroDivisionError))"
   ]
  },
  {
   "cell_type": "code",
   "execution_count": null,
   "metadata": {
    "collapsed": true
   },
   "outputs": [],
   "source": []
  }
 ],
 "metadata": {
  "kernelspec": {
   "display_name": "Python 3 (ipykernel)",
   "language": "python",
   "name": "python3"
  },
  "language_info": {
   "codemirror_mode": {
    "name": "ipython",
    "version": 3
   },
   "file_extension": ".py",
   "mimetype": "text/x-python",
   "name": "python",
   "nbconvert_exporter": "python",
   "pygments_lexer": "ipython3",
   "version": "3.9.12"
  }
 },
 "nbformat": 4,
 "nbformat_minor": 1
}
