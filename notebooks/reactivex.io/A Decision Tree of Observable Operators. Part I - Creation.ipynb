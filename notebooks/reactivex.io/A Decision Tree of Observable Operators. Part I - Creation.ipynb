{
 "cells": [
  {
   "cell_type": "code",
   "execution_count": 29,
   "metadata": {},
   "outputs": [],
   "source": [
    "%run startup.py"
   ]
  },
  {
   "cell_type": "code",
   "execution_count": 30,
   "metadata": {},
   "outputs": [
    {
     "data": {
      "application/javascript": [
       "$.getScript('./assets/js/ipython_notebook_toc.js')\n"
      ],
      "text/plain": [
       "<IPython.core.display.Javascript object>"
      ]
     },
     "metadata": {},
     "output_type": "display_data"
    }
   ],
   "source": [
    "%%javascript\n",
    "$.getScript('./assets/js/ipython_notebook_toc.js')"
   ]
  },
  {
   "cell_type": "markdown",
   "metadata": {},
   "source": [
    "# A Decision Tree of Observable Operators\n",
    "\n",
    "## Part 1: NEW Observables.\n",
    "\n",
    "> source: http://reactivex.io/documentation/operators.html#tree.  \n",
    "> (transcribed to RxPY 1.5.7, Py2.7 / 2016-12, Gunther Klessinger, [axiros](http://www.axiros.com))  \n",
    "\n",
    "**This tree can help you find the ReactiveX Observable operator you’re looking for.**  \n",
    "\n",
    "<h2 id=\"tocheading\">Table of Contents</h2>\n",
    "<div id=\"toc\"></div>\n",
    "\n",
    "## Usage\n",
    "\n",
    "There are no configured behind the scenes imports or code except [`startup.py`](./edit/startup.py), which defines output helper functions, mainly:\n",
    "\n",
    "- `rst, reset_start_time`: resets a global timer, in order to have use cases starting from 0.\n",
    "- `subs(observable)`: subscribes to an observable, printing notifications with time, thread, value\n",
    "\n",
    "\n",
    "All other code is explicitly given in the notebook.  \n",
    "Since all initialisiation of tools is in the first cell, you always have to run the first cell after ipython kernel restarts.  \n",
    "**All other cells are autonmous.**\n",
    "\n",
    "In the use case functions, in contrast to the official examples we simply use **`rand`** quite often (mapped to `randint(0, 100)`), to demonstrate when/how often observable sequences are generated and when their result is buffered for various subscribers.  \n",
    "*When in doubt then run the cell again, you might have been \"lucky\" and got the same random.*\n",
    "\n",
    "### RxJS\n",
    "The (bold printed) operator functions are linked to the [official documentation](http://reactivex.io/documentation/operators.html#tree) and created roughly analogous to the **RxJS** examples. The rest of the TOC lines links to anchors within the notebooks. \n",
    "\n",
    "### Output\n",
    "When the output is not in marble format we display it like so:\n",
    "\n",
    "```\n",
    "new subscription on stream 276507289 \n",
    "\n",
    "   3.4  M [next]    1.4: {'answer': 42}\n",
    "   3.5 T1 [cmpl]    1.6: fin\n",
    "   \n",
    "```\n",
    "where the lines are syncronously `print`ed as they happen.  \"M\" and \"T1\" would be thread names (\"M\" is main thread).  \n",
    "For each use case in `reset_start_time()` (alias `rst`), a global timer is set to 0 and we show the offset to it, in *milliseconds* & with one decimal value and also the offset to the start of stream subscription. In the example 3.4, 3.5 are millis since global counter reset, while 1.4, 1.6 are offsets to start of subscription.\n"
   ]
  },
  {
   "cell_type": "markdown",
   "metadata": {},
   "source": [
    "# I want to create a **NEW** Observable..."
   ]
  },
  {
   "cell_type": "markdown",
   "metadata": {},
   "source": [
    "## ... that emits a particular item: **[just](http://reactivex.io/documentation/operators/just.html) **"
   ]
  },
  {
   "cell_type": "code",
   "execution_count": 31,
   "metadata": {},
   "outputs": [
    {
     "name": "stdout",
     "output_type": "stream",
     "text": [
      "\n",
      "\n",
      "========== return_value ==========\n",
      "\n",
      "module reactivex\n",
      "def return_value(\n",
      "    value: _T, scheduler: Optional[abc.SchedulerBase] = None\n",
      "):\n",
      "    Alias for :func:`reactivex.return_value`.\n",
      "--------------------------------------------------------------------------------\n",
      "\n",
      "   2.0     M New subscription (23900) on stream 276504995\n",
      "   2.5     M [next]    0.5: {'answer': 595} -> 23900\n",
      "   2.5     M [cmpl]    0.5: fin -> 23900\n",
      "\n",
      " 507.8     M New subscription (05073) on stream 276504995\n",
      " 508.1     M [next]    0.3: {'answer': 595} -> 05073\n",
      " 508.2     M [cmpl]    0.3: fin -> 05073\n",
      "\n",
      " 508.5     M New subscription (56710) on stream 276505049\n",
      " 508.6     M [next]    0.1: 1190 -> 56710\n",
      " 508.7     M [cmpl]    0.2: fin -> 56710\n"
     ]
    }
   ],
   "source": [
    "reset_start_time(reactivex.just)\n",
    "stream = reactivex.just({'answer': rand()})\n",
    "disposable = subs(stream)\n",
    "sleep(0.5)\n",
    "disposable = subs(stream) # same answer\n",
    "# all stream ops work, its a real stream:\n",
    "disposable = subs(stream.pipe(ops.map(lambda x: x.get('answer', 0) * 2)))\n"
   ]
  },
  {
   "cell_type": "markdown",
   "metadata": {},
   "source": [
    "## ..that was returned from a function *called at subscribe-time*: **[start](http://reactivex.io/documentation/operators/start.html)**"
   ]
  },
  {
   "cell_type": "code",
   "execution_count": 32,
   "metadata": {},
   "outputs": [
    {
     "name": "stdout",
     "output_type": "stream",
     "text": [
      "There is a little API difference to RxJS, see Remarks:\n",
      "\n",
      "\n",
      "\n",
      "========== start ==========\n",
      "\n",
      "module reactivex\n",
      "def start(\n",
      "    func: Callable[[], _T], scheduler: Optional[abc.SchedulerBase] = None\n",
      "):\n",
      "    Invokes the specified function asynchronously on the specified\n",
      "    scheduler, surfacing the result through an observable sequence.\n",
      "\n",
      "    .. marble::\n",
      "        :alt: start\n",
      "\n",
      "        [ start(lambda i: return 4) ]\n",
      "        -4-|\n",
      "          -4-|\n",
      "\n",
      "    Note:\n",
      "        The function is called immediately, not during the subscription\n",
      "        of the resulting sequence. Multiple subscriptions to the\n",
      "        resulting sequence can observe the function's result.\n",
      "\n",
      "    Example:\n",
      "        >>> res = reactivex.start(lambda: pprint('hello'))\n",
      "        >>> res = reactivex.start(lambda: pprint('hello'), rx.Scheduler.timeout)\n",
      "\n",
      "    Args:\n",
      "        func: Function to run asynchronously.\n",
      "        scheduler: [Optional] Scheduler to run the function on. If\n",
      "            not specified, defaults to an instance of\n",
      "            :class:`TimeoutScheduler <reactivex.scheduler.TimeoutScheduler>`.\n",
      "\n",
      "    Returns:\n",
      "        An observable sequence exposing the function's result value,\n",
      "        or an exception.\n",
      "--------------------------------------------------------------------------------\n",
      "   1.4   T25 function called\n",
      "\n",
      "   1.7     M New subscription (94099) on stream 277357303\n",
      "   1.9     M [next]    0.2: 696 -> 94099\n",
      "   1.9     M [cmpl]    0.2: fin -> 94099\n",
      "\n",
      "   2.1     M New subscription (72477) on stream 277357303\n",
      "   2.2     M [next]    0.1: 696 -> 72477\n",
      "   2.2     M [cmpl]    0.1: fin -> 72477\n",
      "\n",
      "\n",
      "========== Exceptions are handled correctly (an observable should never except): ==========\n",
      "\n",
      "\n",
      "   3.2     M New subscription (05839) on stream 277472528\n",
      "   3.3     M [err ]    0.1: division by zero -> 05839\n",
      "\n",
      "   3.4     M New subscription (57303) on stream 277472528\n",
      "   3.4     M [err ]    0.1: division by zero -> 57303\n"
     ]
    }
   ],
   "source": [
    "print('There is a little API difference to RxJS, see Remarks:\\n')\n",
    "rst(reactivex.start)\n",
    "\n",
    "def f():\n",
    "    log('function called')\n",
    "    return rand()\n",
    "\n",
    "stream = reactivex.start(func=f)\n",
    "d = subs(stream)\n",
    "d = subs(stream)\n",
    "\n",
    "header(\"Exceptions are handled correctly (an observable should never except):\")\n",
    "\n",
    "def breaking_f():    \n",
    "    return 1 / 0\n",
    "\n",
    "stream = reactivex.start(func=breaking_f)\n",
    "d = subs(stream)\n",
    "d = subs(stream)\n",
    "\n",
    "\n",
    "\n",
    "# startasync: only in python3 and possibly here(?) http://www.tornadoweb.org/en/stable/concurrent.html#tornado.concurrent.Future\n",
    "#stream = O.start_async(f)\n",
    "#d = subs(stream)\n"
   ]
  },
  {
   "cell_type": "markdown",
   "metadata": {},
   "source": [
    "## ..that was returned from an Action, Callable, Runnable, or something of that sort, called at subscribe-time: **[from](http://reactivex.io/documentation/operators/from.html)**"
   ]
  },
  {
   "cell_type": "code",
   "execution_count": 33,
   "metadata": {},
   "outputs": [
    {
     "name": "stdout",
     "output_type": "stream",
     "text": [
      "\n",
      "\n",
      "========== from_iterable ==========\n",
      "\n",
      "module reactivex\n",
      "def from_iterable(\n",
      "    iterable: Iterable[_T], scheduler: Optional[abc.SchedulerBase] = None\n",
      "):\n",
      "    Converts an iterable to an observable sequence.\n",
      "\n",
      "    .. marble::\n",
      "        :alt: from_iterable\n",
      "\n",
      "        [   from_iterable(1,2,3)    ]\n",
      "        ---1--2--3--|\n",
      "\n",
      "\n",
      "    Example:\n",
      "        >>> reactivex.from_iterable([1,2,3])\n",
      "\n",
      "    Args:\n",
      "        iterable: An Iterable to change into an observable sequence.\n",
      "        scheduler: [Optional] Scheduler instance to schedule the values on.\n",
      "            If not specified, the default is to use an instance of\n",
      "            :class:`CurrentThreadScheduler\n",
      "            <reactivex.scheduler.CurrentThreadScheduler>`.\n",
      "\n",
      "    Returns:\n",
      "        The observable sequence whose elements are pulled from the\n",
      "        given iterable sequence.\n",
      "--------------------------------------------------------------------------------\n",
      "\n",
      "   2.4     M New subscription (05085) on stream 276505043\n",
      "   2.6     M [next]    0.2: 1 -> 05085\n",
      "   2.6     M [next]    0.2: 2 -> 05085\n",
      "   2.7     M [next]    0.3: 862 -> 05085\n",
      "   2.7     M [cmpl]    0.3: fin -> 05085\n",
      "\n",
      "   3.2     M New subscription (53593) on stream 276612205\n",
      "   3.4     M [next]    0.1: 813 -> 53593\n",
      "   3.4     M [next]    0.1: 204 -> 53593\n",
      "   3.4     M [next]    0.2: 550 -> 53593\n",
      "   3.4     M [cmpl]    0.2: fin -> 53593\n"
     ]
    }
   ],
   "source": [
    "rst(reactivex.from_iterable)\n",
    "def f():\n",
    "    log('function called')\n",
    "    return rand()\n",
    "# aliases: reactivex.from_, reactivex.from_list\n",
    "# 1.: From a tuple:\n",
    "stream = reactivex.from_iterable((1,2,rand()))\n",
    "d = subs(stream)\n",
    "# d = subs(stream) # same result\n",
    "\n",
    "# 2. from a generator\n",
    "gen = (rand() for j in range(3))\n",
    "stream = reactivex.from_iterable(gen)\n",
    "d = subs(stream)\n",
    "\n"
   ]
  },
  {
   "cell_type": "code",
   "execution_count": 34,
   "metadata": {},
   "outputs": [
    {
     "name": "stdout",
     "output_type": "stream",
     "text": [
      "\n",
      "\n",
      "========== from_callback ==========\n",
      "\n",
      "module reactivex\n",
      "def from_callback(\n",
      "    func: Callable[..., Callable[..., None]],\n",
      "    mapper: Optional[typing.Mapper[Any, Any]] = None,\n",
      "):\n",
      "    Converts a callback function to an observable sequence.\n",
      "\n",
      "    Args:\n",
      "        func: Function with a callback as the last argument to\n",
      "            convert to an Observable sequence.\n",
      "        mapper: [Optional] A mapper which takes the arguments\n",
      "            from the callback to produce a single item to yield on\n",
      "            next.\n",
      "\n",
      "    Returns:\n",
      "        A function, when executed with the required arguments minus\n",
      "        the callback, produces an Observable sequence with a single\n",
      "        value of the arguments to the callback as a list.\n",
      "--------------------------------------------------------------------------------\n",
      "\n",
      "   2.8     M New subscription (72519) on stream 277422508\n",
      "   3.9     M called f\n"
     ]
    }
   ],
   "source": [
    "rst(reactivex.from_callback)\n",
    "# in my words: In the on_next of the subscriber you'll have the original arguments,\n",
    "# potentially objects, e.g. user original http requests.\n",
    "# i.e. you could merge those with the result stream of a backend call to\n",
    "# a webservice or db and send the request.response back to the user then.\n",
    "\n",
    "def g(f, a, b):\n",
    "    f(a, b)\n",
    "    log('called f')\n",
    "stream = reactivex.from_callback(lambda a, b, f: g(f, a, b))('fu', 'bar')\n",
    "d = subs(stream.pipe(ops.delay(200)))\n",
    "# d = subs(stream.delay(200)) # does NOT work\n"
   ]
  },
  {
   "cell_type": "markdown",
   "metadata": {},
   "source": [
    "## ...after a specified delay: **[timer](http://reactivex.io/documentation/operators/timer.html)**"
   ]
  },
  {
   "cell_type": "code",
   "execution_count": 35,
   "metadata": {},
   "outputs": [
    {
     "name": "stdout",
     "output_type": "stream",
     "text": [
      "\n",
      "\n",
      "========== True ==========\n",
      "\n",
      "\n",
      "   1.2     M New subscription (observer1) on stream 277372486\n",
      "\n",
      "   2.8     M New subscription (observer2) on stream 277372486\n"
     ]
    }
   ],
   "source": [
    "rst()\n",
    "# start a stream of 0, 1, 2, .. after 200 ms, with a delay of 100 ms:\n",
    "stream = reactivex.timer(200, 100).pipe(ops.time_interval(), ops.map(lambda x: 'val:%s dt:%s' % (x.value, x.interval)), ops.take(3))\n",
    "d = subs(stream, name='observer1')\n",
    "# intermix directly with another one\n",
    "d = subs(stream, name='observer2')"
   ]
  },
  {
   "cell_type": "markdown",
   "metadata": {},
   "source": [
    "## ...that emits a sequence of items repeatedly: **[repeat](http://reactivex.io/documentation/operators/repeat.html) **"
   ]
  },
  {
   "cell_type": "code",
   "execution_count": 38,
   "metadata": {},
   "outputs": [
    {
     "name": "stdout",
     "output_type": "stream",
     "text": [
      "\n",
      "\n",
      "========== repeat ==========\n",
      "\n",
      "module reactivex.operators\n",
      "def repeat(\n",
      "    repeat_count: Optional[int] = None,\n",
      "):\n",
      "    Repeats the observable sequence a specified number of times.\n",
      "    If the repeat count is not specified, the sequence repeats\n",
      "    indefinitely.\n",
      "\n",
      "    .. marble::\n",
      "        :alt: repeat\n",
      "\n",
      "        -1--2-|\n",
      "        [    repeat(3)     ]\n",
      "        -1--2--1--2--1--2-|\n",
      "\n",
      "\n",
      "    Examples:\n",
      "        >>> repeated = repeat()\n",
      "        >>> repeated = repeat(42)\n",
      "    Args:\n",
      "        repeat_count: Number of times to repeat the sequence. If not\n",
      "        provided, repeats the sequence indefinitely.\n",
      "\n",
      "    Returns:\n",
      "        An operator function that takes an observable sources and\n",
      "        returns an observable sequence producing the elements of the\n",
      "        given sequence repeatedly.\n",
      "--------------------------------------------------------------------------------\n",
      "\n",
      "   1.6     M New subscription (72266) on stream 277472509\n",
      "   2.0     M [next]    0.3: 20 -> 72266\n",
      "   2.1     M [next]    0.5: 20 -> 72266\n",
      "   2.2     M [next]    0.6: 20 -> 72266\n",
      "   2.3     M [next]    0.7: 20 -> 72266\n",
      "   2.4     M [cmpl]    0.8: fin -> 72266\n",
      "\n",
      "\n",
      "========== do while: ==========\n",
      "\n",
      "\n",
      "  10.1     M New subscription (63643) on stream 277473594\n",
      "  10.4     M [next]    0.3: 42 -> 63643\n",
      "  10.6     M [next]    0.5: 42 -> 63643\n",
      "  10.7     M [cmpl]    0.6: fin -> 63643\n"
     ]
    }
   ],
   "source": [
    "rst(ops.repeat)\n",
    "# repeat is over *values*, not function calls. Use generate or create for function calls!\n",
    "subs(reactivex.repeat_value(20, 4))\n",
    "\n",
    "header('do while:')\n",
    "l = []\n",
    "def condition(x):\n",
    "    l.append(1)\n",
    "    return True if len(l) < 2 else False\n",
    "stream = reactivex.just(42).pipe(ops.do_while(condition))\n",
    "d = subs(stream)\n",
    "\n"
   ]
  },
  {
   "cell_type": "markdown",
   "metadata": {},
   "source": [
    "## ...from scratch, with custom logic and cleanup (calling a function again and again): **[create](http://reactivex.io/documentation/operators/create.html) **"
   ]
  },
  {
   "cell_type": "code",
   "execution_count": 39,
   "metadata": {},
   "outputs": [
    {
     "name": "stdout",
     "output_type": "stream",
     "text": [
      "\n",
      "\n",
      "========== create ==========\n",
      "\n",
      "module reactivex\n",
      "def create(subscribe: typing.Subscription[_T]):\n",
      "    Creates an observable sequence object from the specified\n",
      "        subscription function.\n",
      "\n",
      "    .. marble::\n",
      "        :alt: create\n",
      "\n",
      "        [     create(a)    ]\n",
      "        ---1---2---3---4---|\n",
      "\n",
      "    Args:\n",
      "        subscribe: Subscription function.\n",
      "\n",
      "    Returns:\n",
      "        An observable sequence that can be subscribed to via the given\n",
      "        subscription function.\n",
      "--------------------------------------------------------------------------------\n",
      "\n",
      "   1.7     M New subscription (90252) on stream 277631958\n",
      "   2.0     M [err ]    0.3: f() takes 1 positional argument but 2 were given -> 90252\n",
      "\n",
      "   2.2     M New subscription (23831) on stream 277631958\n",
      "   2.4     M [err ]    0.2: f() takes 1 positional argument but 2 were given -> 23831\n",
      "\n",
      "\n",
      "========== Exceptions are handled nicely ==========\n",
      "\n",
      "\n",
      "   1.1     M New subscription (72546) on stream 276602314\n",
      "   1.4     M [err ]    0.2: excepting_f() takes 1 positional argument but 2 were given -> 72546\n",
      "\n",
      "   1.6     M New subscription (66361) on stream 276602314\n",
      "   1.7     M [err ]    0.1: excepting_f() takes 1 positional argument but 2 were given -> 66361\n",
      "\n",
      "\n",
      "========== Feature or Bug? ==========\n",
      "\n",
      "(where are the first two values?)\n",
      "\n",
      "   1.1     M New subscription (72546) on stream 277633302\n",
      "   1.6     M [err ]    0.5: excepting_f() takes 1 positional argument but 2 were given -> 72546\n",
      "\n",
      "   2.2     M New subscription (02314) on stream 277633302\n",
      "   2.7     M [err ]    0.5: excepting_f() takes 1 positional argument but 2 were given -> 02314\n"
     ]
    }
   ],
   "source": [
    "rx = reactivex.create\n",
    "rst(rx)\n",
    "\n",
    "def f(obs):\n",
    "    # this function is called for every observer\n",
    "    obs.on_next(rand())\n",
    "    obs.on_next(rand())\n",
    "    obs.on_completed()\n",
    "    def cleanup():\n",
    "        log('cleaning up...')\n",
    "    return cleanup\n",
    "stream = reactivex.create(f).pipe(ops.delay(200)) # the delay causes the cleanup called before the subs gets the vals\n",
    "d = subs(stream)\n",
    "d = subs(stream)\n",
    "\n",
    "\n",
    "\n",
    "\n",
    "sleep(0.5)\n",
    "rst(title='Exceptions are handled nicely')\n",
    "l = []\n",
    "def excepting_f(obs):\n",
    "    for i in range(3):\n",
    "        l.append(1)\n",
    "        obs.on_next('%s %s (observer hash: %s)' % (i, 1. / (3 - len(l)), hash(obs) ))\n",
    "    obs.on_completed()\n",
    "\n",
    "stream = reactivex.create(excepting_f)\n",
    "d = subs(stream)\n",
    "d = subs(stream)\n",
    "\n",
    "\n",
    "\n",
    "\n",
    "rst(title='Feature or Bug?')\n",
    "print('(where are the first two values?)')\n",
    "l = []\n",
    "def excepting_f(obs):\n",
    "    for i in range(3):\n",
    "        l.append(1)\n",
    "        obs.on_next('%s %s (observer hash: %s)' % (i, 1. / (3 - len(l)), hash(obs) ))\n",
    "    obs.on_completed()\n",
    "\n",
    "stream = reactivex.create(excepting_f).pipe(ops.delay(100))\n",
    "d = subs(stream)\n",
    "d = subs(stream)\n",
    "# I think its an (amazing) feature, preventing to process functions results of later(!) failing functions\n"
   ]
  },
  {
   "cell_type": "code",
   "execution_count": 44,
   "metadata": {},
   "outputs": [
    {
     "name": "stdout",
     "output_type": "stream",
     "text": [
      "\n",
      "\n",
      "========== generate ==========\n",
      "\n",
      "module reactivex\n",
      "def generate(\n",
      "    initial_state: _TState,\n",
      "    condition: typing.Predicate[_TState],\n",
      "    iterate: typing.Mapper[_TState, _TState],\n",
      "):\n",
      "    Generates an observable sequence by running a state-driven loop\n",
      "    producing the sequence's elements.\n",
      "\n",
      "    .. marble::\n",
      "        :alt: generate\n",
      "\n",
      "        [   generate()    ]\n",
      "        -1-2-3-4-|\n",
      "\n",
      "    Example:\n",
      "        >>> res = reactivex.generate(0, lambda x: x < 10, lambda x: x + 1)\n",
      "\n",
      "    Args:\n",
      "        initial_state: Initial state.\n",
      "        condition: Condition to terminate generation (upon returning\n",
      "            :code:`False`).\n",
      "        iterate: Iteration step function.\n",
      "\n",
      "    Returns:\n",
      "        The generated sequence.\n",
      "--------------------------------------------------------------------------------\n",
      "\n",
      "   5.2     M New subscription (34434) on stream 277634169\n",
      "   5.4     M [next]    0.2: 0 -> 34434\n",
      "   5.5     M [next]    0.3: 1.1 -> 34434\n",
      "   5.5     M [next]    0.3: 2.2 -> 34434\n",
      "   5.6     M [next]    0.4: 3.3000000000000003 -> 34434\n",
      "   5.6     M [cmpl]    0.5: fin -> 34434\n"
     ]
    }
   ],
   "source": [
    "rx = reactivex.generate\n",
    "rst(rx)\n",
    "\"\"\"The basic form of generate takes three parameters:\n",
    "\n",
    "the first item to emit\n",
    "a function to test an item to determine whether to emit it (true) or terminate the Observable (false)\n",
    "a function to generate the next item to test and emit based on the value of the previous item\n",
    "\"\"\"\n",
    "def generator_based_on_previous(x): return x + 1.1\n",
    "def doubler(x): return 2 * x\n",
    "d = subs(rx(0, lambda x: x < 4, generator_based_on_previous))"
   ]
  },
  {
   "cell_type": "code",
   "execution_count": 45,
   "metadata": {},
   "outputs": [
    {
     "name": "stdout",
     "output_type": "stream",
     "text": [
      "\n",
      "\n",
      "========== generate_with_relative_time ==========\n",
      "\n",
      "module reactivex\n",
      "def generate_with_relative_time(\n",
      "    initial_state: _TState,\n",
      "    condition: typing.Predicate[_TState],\n",
      "    iterate: typing.Mapper[_TState, _TState],\n",
      "    time_mapper: Callable[[_TState], typing.RelativeTime],\n",
      "):\n",
      "    Generates an observable sequence by iterating a state from an\n",
      "    initial state until the condition fails.\n",
      "\n",
      "    .. marble::\n",
      "        :alt: generate_with_relative_time\n",
      "\n",
      "        [generate_with_relative_time()]\n",
      "        -1-2-3-4-|\n",
      "\n",
      "    Example:\n",
      "        >>> res = reactivex.generate_with_relative_time(\n",
      "            0, lambda x: True, lambda x: x + 1, lambda x: 0.5\n",
      "        )\n",
      "\n",
      "    Args:\n",
      "        initial_state: Initial state.\n",
      "        condition: Condition to terminate generation (upon returning\n",
      "            :code:`False`).\n",
      "        iterate: Iteration step function.\n",
      "        time_mapper: Time mapper function to control the speed of\n",
      "            values being produced each iteration, returning relative times, i.e.\n",
      "            either a :class:`float` denoting seconds, or an instance of\n",
      "            :class:`timedelta`.\n",
      "\n",
      "    Returns:\n",
      "        The generated sequence.\n",
      "--------------------------------------------------------------------------------\n",
      "\n",
      "   4.2     M New subscription (74645) on stream 277634202\n"
     ]
    }
   ],
   "source": [
    "rx = reactivex.generate_with_relative_time\n",
    "rst(rx)\n",
    "stream = rx(1, lambda x: x < 4, lambda x: x + 1, lambda t: 100)\n",
    "d = subs(stream)\n"
   ]
  },
  {
   "cell_type": "markdown",
   "metadata": {},
   "source": [
    "## ...for each observer that subscribes OR according to a condition at subscription time: **[defer / if_then](http://reactivex.io/documentation/operators/defer.html) **"
   ]
  },
  {
   "cell_type": "code",
   "execution_count": 47,
   "metadata": {},
   "outputs": [
    {
     "name": "stdout",
     "output_type": "stream",
     "text": [
      "\n",
      "\n",
      "========== defer ==========\n",
      "\n",
      "module reactivex\n",
      "def defer(\n",
      "    factory: Callable[[abc.SchedulerBase], Union[Observable[_T], \"Future[_T]\"]]\n",
      "):\n",
      "    Returns an observable sequence that invokes the specified\n",
      "    factory function whenever a new observer subscribes.\n",
      "\n",
      "    .. marble::\n",
      "        :alt: defer\n",
      "\n",
      "        [     defer(1,2,3)     ]\n",
      "        ---1--2--3--|\n",
      "                ---1--2--3--|\n",
      "\n",
      "    Example:\n",
      "        >>> res = reactivex.defer(lambda scheduler: of(1, 2, 3))\n",
      "\n",
      "    Args:\n",
      "        factory: Observable factory function to invoke for each observer\n",
      "            which invokes :func:`subscribe()\n",
      "            <reactivex.Observable.subscribe>` on the resulting sequence.\n",
      "            The factory takes a single argument, the scheduler used.\n",
      "\n",
      "    Returns:\n",
      "        An observable sequence whose observers trigger an invocation\n",
      "        of the given factory function.\n",
      "--------------------------------------------------------------------------------\n",
      "\n",
      "   3.8     M New subscription (72483) on stream 277626929\n",
      "   5.1     M [err ]    1.4: <lambda>() takes 0 positional arguments but 1 was given -> 72483\n",
      "\n",
      "   5.4     M New subscription (73552) on stream 277626929\n",
      "   5.5     M [err ]    0.1: <lambda>() takes 0 positional arguments but 1 was given -> 73552\n",
      " 408.1   T31 [next] 100003.4: 1 -> 66340\n",
      "13863.1   T33 [next] 100007.4: 1 -> 34491\n"
     ]
    }
   ],
   "source": [
    "rst(reactivex.defer)\n",
    "# plural! (unique per subscription)\n",
    "streams = reactivex.defer(lambda: reactivex.just(rand()))\n",
    "d = subs(streams)\n",
    "d = subs(streams) # gets other values - created by subscription!"
   ]
  },
  {
   "cell_type": "code",
   "execution_count": 48,
   "metadata": {},
   "outputs": [
    {
     "name": "stdout",
     "output_type": "stream",
     "text": [
      "\n",
      "\n",
      "========== if_then ==========\n",
      "\n",
      "module reactivex\n",
      "def if_then(\n",
      "    condition: Callable[[], bool],\n",
      "    then_source: Union[Observable[_T], \"Future[_T]\"],\n",
      "    else_source: Union[None, Observable[_T], \"Future[_T]\"] = None,\n",
      "):\n",
      "    Determines whether an observable collection contains values.\n",
      "\n",
      "    .. marble::\n",
      "        :alt: if_then\n",
      "\n",
      "        ---1--2--3--|\n",
      "        --6--8--|\n",
      "        [    if_then()     ]\n",
      "        ---1--2--3--|\n",
      "\n",
      "\n",
      "    Examples:\n",
      "        >>> res = reactivex.if_then(condition, obs1)\n",
      "        >>> res = reactivex.if_then(condition, obs1, obs2)\n",
      "\n",
      "    Args:\n",
      "        condition: The condition which determines if the then_source or\n",
      "            else_source will be run.\n",
      "        then_source: The observable sequence or :class:`Future` that\n",
      "            will be run if the condition function returns :code:`True`.\n",
      "        else_source: [Optional] The observable sequence or :class:`Future`\n",
      "            that will be run if the condition function returns :code:`False`.\n",
      "            If this is not provided, it defaults to :func:`empty() <reactivex.empty>`.\n",
      "\n",
      "    Returns:\n",
      "        An observable sequence which is either the then_source or\n",
      "        else_source.\n",
      "--------------------------------------------------------------------------------\n",
      "\n",
      "   3.5     M New subscription (22538) on stream 277472473\n",
      "   3.7     M [next]    0.2: 43 -> 22538\n",
      "   3.7     M [cmpl]    0.2: fin -> 22538\n",
      "   3.9     M condition will now evaluate falsy:\n",
      "\n",
      "   4.1     M New subscription (02314) on stream 277631916\n",
      "   4.2     M [next]    0.1: 283 -> 02314\n",
      "   4.2     M [cmpl]    0.1: fin -> 02314\n",
      "\n",
      "   4.3     M New subscription (45419) on stream 277631916\n",
      "   4.4     M [next]    0.1: 283 -> 45419\n",
      "   4.5     M [cmpl]    0.1: fin -> 45419\n"
     ]
    }
   ],
   "source": [
    "# evaluating a condition at subscription time in order to decide which of two streams to take.\n",
    "rst(reactivex.if_then)\n",
    "cond = True\n",
    "def should_run():\n",
    "    return cond\n",
    "streams = reactivex.if_then(should_run, reactivex.return_value(43), reactivex.return_value(56))\n",
    "d = subs(streams)\n",
    "\n",
    "log('condition will now evaluate falsy:')\n",
    "cond = False\n",
    "streams = reactivex.if_then(should_run, reactivex.return_value(43), reactivex.return_value(rand()))\n",
    "d = subs(streams)\n",
    "d = subs(streams)"
   ]
  },
  {
   "cell_type": "markdown",
   "metadata": {},
   "source": [
    "## ...that emits a sequence of integers: **[range](http://reactivex.io/documentation/operators/range.html) **"
   ]
  },
  {
   "cell_type": "code",
   "execution_count": 49,
   "metadata": {},
   "outputs": [
    {
     "name": "stdout",
     "output_type": "stream",
     "text": [
      "\n",
      "\n",
      "========== range ==========\n",
      "\n",
      "module reactivex\n",
      "def range(\n",
      "    start: int,\n",
      "    stop: Optional[int] = None,\n",
      "    step: Optional[int] = None,\n",
      "    scheduler: Optional[abc.SchedulerBase] = None,\n",
      "):\n",
      "    Generates an observable sequence of integral numbers within a\n",
      "    specified range, using the specified scheduler to send out observer\n",
      "    messages.\n",
      "\n",
      "    .. marble::\n",
      "        :alt: range\n",
      "\n",
      "        [    range(4)     ]\n",
      "        --0--1--2--3--|\n",
      "\n",
      "    Examples:\n",
      "        >>> res = reactivex.range(10)\n",
      "        >>> res = reactivex.range(0, 10)\n",
      "        >>> res = reactivex.range(0, 10, 1)\n",
      "\n",
      "    Args:\n",
      "        start: The value of the first integer in the sequence.\n",
      "        stop: [Optional] Generate number up to (exclusive) the stop\n",
      "            value. Default is `sys.maxsize`.\n",
      "        step: [Optional] The step to be used (default is 1).\n",
      "        scheduler: [Optional] The scheduler to schedule the values on.\n",
      "            If not specified, the default is to use an instance of\n",
      "            :class:`CurrentThreadScheduler\n",
      "            <reactivex.scheduler.CurrentThreadScheduler>`.\n",
      "\n",
      "    Returns:\n",
      "        An observable sequence that contains a range of sequential\n",
      "        integral numbers.\n",
      "--------------------------------------------------------------------------------\n",
      "\n",
      "   3.8     M New subscription (56656) on stream 276423831\n",
      "   4.2     M [next]    0.3: 0 -> 56656\n",
      "   4.2     M [next]    0.4: 1 -> 56656\n",
      "   4.3     M [next]    0.5: 2 -> 56656\n",
      "   4.4     M [cmpl]    0.5: fin -> 56656\n"
     ]
    }
   ],
   "source": [
    "rst(reactivex.range)\n",
    "d = subs(reactivex.range(0, 3))"
   ]
  },
  {
   "cell_type": "markdown",
   "metadata": {},
   "source": [
    "### ...at particular intervals of time: **[interval](http://reactivex.io/documentation/operators/interval.html) **\n",
    "\n",
    "(you can `.publish()` it to get an easy \"hot\" observable)"
   ]
  },
  {
   "cell_type": "code",
   "execution_count": 50,
   "metadata": {},
   "outputs": [
    {
     "name": "stdout",
     "output_type": "stream",
     "text": [
      "\n",
      "\n",
      "========== interval ==========\n",
      "\n",
      "module reactivex\n",
      "def interval(\n",
      "    period: typing.RelativeTime, scheduler: Optional[abc.SchedulerBase] = None\n",
      "):\n",
      "    Returns an observable sequence that produces a value after each period.\n",
      "\n",
      "    .. marble::\n",
      "        :alt: interval\n",
      "\n",
      "        [  interval()   ]\n",
      "        ---1---2---3---4--->\n",
      "\n",
      "    Example:\n",
      "        >>> res = reactivex.interval(1.0)\n",
      "\n",
      "    Args:\n",
      "        period: Period for producing the values in the resulting sequence\n",
      "            (specified as a :class:`float` denoting seconds or an instance of\n",
      "            :class:`timedelta`).\n",
      "        scheduler:  Scheduler to run the interval on. If not specified, an\n",
      "            instance of :class:`TimeoutScheduler <reactivex.scheduler.TimeoutScheduler>`\n",
      "            is used.\n",
      "\n",
      "    Returns:\n",
      "        An observable sequence that produces a value after each period.\n",
      "--------------------------------------------------------------------------------\n",
      "\n",
      "   4.5     M New subscription (72323) on stream 277473564\n"
     ]
    }
   ],
   "source": [
    "rst(reactivex.interval)\n",
    "d = subs(reactivex.interval(period=100).pipe(ops.time_interval(), \\\n",
    "                                             ops.map(lambda x, v: f\"{ItemGetter(x)[0]}s {ItemGetter(x)[1]}s\"), \\\n",
    "                                             ops.take(3)))"
   ]
  },
  {
   "cell_type": "markdown",
   "metadata": {},
   "source": [
    "### ...after a specified delay (see timer)"
   ]
  },
  {
   "cell_type": "markdown",
   "metadata": {},
   "source": [
    "## ...that completes without emitting items: **[empty](http://reactivex.io/documentation/operators/empty-never-throw.html) **"
   ]
  },
  {
   "cell_type": "code",
   "execution_count": 51,
   "metadata": {},
   "outputs": [
    {
     "name": "stdout",
     "output_type": "stream",
     "text": [
      "\n",
      "\n",
      "========== empty ==========\n",
      "\n",
      "module reactivex\n",
      "def empty(scheduler: Optional[abc.SchedulerBase] = None):\n",
      "    Returns an empty observable sequence.\n",
      "\n",
      "    .. marble::\n",
      "        :alt: empty\n",
      "\n",
      "        [     empty()     ]\n",
      "        --|\n",
      "\n",
      "    Example:\n",
      "        >>> obs = reactivex.empty()\n",
      "\n",
      "    Args:\n",
      "        scheduler: [Optional] Scheduler instance to send the termination call\n",
      "            on. By default, this will use an instance of\n",
      "            :class:`ImmediateScheduler <reactivex.scheduler.ImmediateScheduler>`.\n",
      "\n",
      "    Returns:\n",
      "        An observable sequence with no elements.\n",
      "--------------------------------------------------------------------------------\n",
      "\n",
      "   5.1     M New subscription (57279) on stream 276423831\n",
      "   5.3     M [cmpl]    0.2: fin -> 57279\n"
     ]
    }
   ],
   "source": [
    "rst(reactivex.empty)\n",
    "d = subs(reactivex.empty())"
   ]
  },
  {
   "cell_type": "markdown",
   "metadata": {},
   "source": [
    "## ...that does nothing at all: **[never](http://reactivex.io/documentation/operators/empty-never-throw.html) **"
   ]
  },
  {
   "cell_type": "code",
   "execution_count": 52,
   "metadata": {},
   "outputs": [
    {
     "name": "stdout",
     "output_type": "stream",
     "text": [
      "\n",
      "\n",
      "========== never ==========\n",
      "\n",
      "module reactivex\n",
      "def never():\n",
      "    Returns a non-terminating observable sequence, which can be used\n",
      "    to denote an infinite duration (e.g. when using reactive joins).\n",
      "\n",
      "    .. marble::\n",
      "        :alt: never\n",
      "\n",
      "        [     never()     ]\n",
      "        -->\n",
      "\n",
      "    Returns:\n",
      "        An observable sequence whose observers will never get called.\n",
      "--------------------------------------------------------------------------------\n",
      "\n",
      "   1.4     M New subscription (72419) on stream 277422544\n"
     ]
    }
   ],
   "source": [
    "rst(reactivex.never)\n",
    "d = subs(reactivex.never())"
   ]
  },
  {
   "cell_type": "markdown",
   "metadata": {},
   "source": [
    "## ...that excepts: **[throw](http://reactivex.io/documentation/operators/empty-never-throw.html) **"
   ]
  },
  {
   "cell_type": "code",
   "execution_count": 55,
   "metadata": {},
   "outputs": [
    {
     "name": "stdout",
     "output_type": "stream",
     "text": [
      "\n",
      "\n",
      "========== on_error ==========\n",
      "\n",
      "module reactivex.observer.observer\n",
      "def on_error(self, error: Exception):\n",
      "    Notify the observer that an exception has occurred.\n",
      "\n",
      "        Args:\n",
      "            error: The error that occurred.\n",
      "--------------------------------------------------------------------------------\n"
     ]
    },
    {
     "ename": "ZeroDivisionError",
     "evalue": "division by zero",
     "output_type": "error",
     "traceback": [
      "\u001b[0;31m---------------------------------------------------------------------------\u001b[0m",
      "\u001b[0;31mZeroDivisionError\u001b[0m                         Traceback (most recent call last)",
      "Input \u001b[0;32mIn [55]\u001b[0m, in \u001b[0;36m<cell line: 2>\u001b[0;34m()\u001b[0m\n\u001b[1;32m      1\u001b[0m rst(reactivex\u001b[38;5;241m.\u001b[39mObserver\u001b[38;5;241m.\u001b[39mon_error)\n\u001b[0;32m----> 2\u001b[0m d \u001b[38;5;241m=\u001b[39m subs(reactivex\u001b[38;5;241m.\u001b[39mrepeat_value(\u001b[38;5;241;43m20\u001b[39;49m\u001b[38;5;241;43m/\u001b[39;49m\u001b[38;5;241;43m0\u001b[39;49m, \u001b[38;5;241m4\u001b[39m)\u001b[38;5;241m.\u001b[39mon_error(error\u001b[38;5;241m=\u001b[39m\u001b[38;5;167;01mZeroDivisionError\u001b[39;00m))\n",
      "\u001b[0;31mZeroDivisionError\u001b[0m: division by zero"
     ]
    },
    {
     "name": "stdout",
     "output_type": "stream",
     "text": [
      "2700.7   T36 [next] 200011.0: 2 -> 66340\n",
      "16155.0   T37 [next] 200014.4: 2 -> 34491\n"
     ]
    }
   ],
   "source": [
    "rst(reactivex.Observer.on_error)\n",
    "d = subs(reactivex.repeat_value(20/0, 4).on_error(error=ZeroDivisionError))"
   ]
  },
  {
   "cell_type": "code",
   "execution_count": null,
   "metadata": {
    "collapsed": true
   },
   "outputs": [],
   "source": []
  }
 ],
 "metadata": {
  "kernelspec": {
   "display_name": "Python 3 (ipykernel)",
   "language": "python",
   "name": "python3"
  },
  "language_info": {
   "codemirror_mode": {
    "name": "ipython",
    "version": 3
   },
   "file_extension": ".py",
   "mimetype": "text/x-python",
   "name": "python",
   "nbconvert_exporter": "python",
   "pygments_lexer": "ipython3",
   "version": "3.9.12"
  }
 },
 "nbformat": 4,
 "nbformat_minor": 1
}
